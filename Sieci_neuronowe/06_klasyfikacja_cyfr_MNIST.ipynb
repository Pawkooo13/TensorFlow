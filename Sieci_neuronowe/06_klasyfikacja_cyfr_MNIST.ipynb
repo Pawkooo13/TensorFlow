{
 "cells": [
  {
   "cell_type": "code",
   "execution_count": 10,
   "metadata": {},
   "outputs": [],
   "source": [
    "import tensorflow as tf\n",
    "import numpy as np\n",
    "import pandas as pd\n",
    "import matplotlib.pyplot as plt\n",
    "from tensorflow.keras.datasets import mnist"
   ]
  },
  {
   "cell_type": "code",
   "execution_count": 11,
   "metadata": {},
   "outputs": [
    {
     "name": "stdout",
     "output_type": "stream",
     "text": [
      "Downloading data from https://storage.googleapis.com/tensorflow/tf-keras-datasets/mnist.npz\n",
      "11490434/11490434 [==============================] - 14s 1us/step\n"
     ]
    }
   ],
   "source": [
    "(train_data, train_labels), (test_data, test_labels) = mnist.load_data()"
   ]
  },
  {
   "cell_type": "code",
   "execution_count": 12,
   "metadata": {},
   "outputs": [
    {
     "data": {
      "text/plain": [
       "array([[[0, 0, 0, ..., 0, 0, 0],\n",
       "        [0, 0, 0, ..., 0, 0, 0],\n",
       "        [0, 0, 0, ..., 0, 0, 0],\n",
       "        ...,\n",
       "        [0, 0, 0, ..., 0, 0, 0],\n",
       "        [0, 0, 0, ..., 0, 0, 0],\n",
       "        [0, 0, 0, ..., 0, 0, 0]],\n",
       "\n",
       "       [[0, 0, 0, ..., 0, 0, 0],\n",
       "        [0, 0, 0, ..., 0, 0, 0],\n",
       "        [0, 0, 0, ..., 0, 0, 0],\n",
       "        ...,\n",
       "        [0, 0, 0, ..., 0, 0, 0],\n",
       "        [0, 0, 0, ..., 0, 0, 0],\n",
       "        [0, 0, 0, ..., 0, 0, 0]],\n",
       "\n",
       "       [[0, 0, 0, ..., 0, 0, 0],\n",
       "        [0, 0, 0, ..., 0, 0, 0],\n",
       "        [0, 0, 0, ..., 0, 0, 0],\n",
       "        ...,\n",
       "        [0, 0, 0, ..., 0, 0, 0],\n",
       "        [0, 0, 0, ..., 0, 0, 0],\n",
       "        [0, 0, 0, ..., 0, 0, 0]],\n",
       "\n",
       "       ...,\n",
       "\n",
       "       [[0, 0, 0, ..., 0, 0, 0],\n",
       "        [0, 0, 0, ..., 0, 0, 0],\n",
       "        [0, 0, 0, ..., 0, 0, 0],\n",
       "        ...,\n",
       "        [0, 0, 0, ..., 0, 0, 0],\n",
       "        [0, 0, 0, ..., 0, 0, 0],\n",
       "        [0, 0, 0, ..., 0, 0, 0]],\n",
       "\n",
       "       [[0, 0, 0, ..., 0, 0, 0],\n",
       "        [0, 0, 0, ..., 0, 0, 0],\n",
       "        [0, 0, 0, ..., 0, 0, 0],\n",
       "        ...,\n",
       "        [0, 0, 0, ..., 0, 0, 0],\n",
       "        [0, 0, 0, ..., 0, 0, 0],\n",
       "        [0, 0, 0, ..., 0, 0, 0]],\n",
       "\n",
       "       [[0, 0, 0, ..., 0, 0, 0],\n",
       "        [0, 0, 0, ..., 0, 0, 0],\n",
       "        [0, 0, 0, ..., 0, 0, 0],\n",
       "        ...,\n",
       "        [0, 0, 0, ..., 0, 0, 0],\n",
       "        [0, 0, 0, ..., 0, 0, 0],\n",
       "        [0, 0, 0, ..., 0, 0, 0]]], dtype=uint8)"
      ]
     },
     "execution_count": 12,
     "metadata": {},
     "output_type": "execute_result"
    }
   ],
   "source": [
    "train_data"
   ]
  },
  {
   "cell_type": "code",
   "execution_count": 14,
   "metadata": {},
   "outputs": [
    {
     "data": {
      "text/plain": [
       "((60000, 28, 28), (10000, 28, 28))"
      ]
     },
     "execution_count": 14,
     "metadata": {},
     "output_type": "execute_result"
    }
   ],
   "source": [
    "train_data.shape, test_data.shape"
   ]
  },
  {
   "cell_type": "code",
   "execution_count": 15,
   "metadata": {},
   "outputs": [
    {
     "data": {
      "text/plain": [
       "((60000,), (10000,))"
      ]
     },
     "execution_count": 15,
     "metadata": {},
     "output_type": "execute_result"
    }
   ],
   "source": [
    "train_labels.shape, test_labels.shape"
   ]
  },
  {
   "cell_type": "code",
   "execution_count": 16,
   "metadata": {},
   "outputs": [
    {
     "data": {
      "text/plain": [
       "array([5, 0, 4, ..., 5, 6, 8], dtype=uint8)"
      ]
     },
     "execution_count": 16,
     "metadata": {},
     "output_type": "execute_result"
    }
   ],
   "source": [
    "train_labels"
   ]
  },
  {
   "cell_type": "code",
   "execution_count": 20,
   "metadata": {},
   "outputs": [
    {
     "data": {
      "text/plain": [
       "(0, 9)"
      ]
     },
     "execution_count": 20,
     "metadata": {},
     "output_type": "execute_result"
    }
   ],
   "source": [
    "train_labels.min(), train_labels.max()"
   ]
  },
  {
   "cell_type": "code",
   "execution_count": 19,
   "metadata": {},
   "outputs": [
    {
     "data": {
      "text/plain": [
       "Text(0.5, 1.0, '5')"
      ]
     },
     "execution_count": 19,
     "metadata": {},
     "output_type": "execute_result"
    },
    {
     "data": {
      "image/png": "[encoded data removed]",
      "text/plain": [
       "<Figure size 432x288 with 1 Axes>"
      ]
     },
     "metadata": {
      "needs_background": "light"
     },
     "output_type": "display_data"
    }
   ],
   "source": [
    "plt.imshow(train_data[0], cmap=plt.cm.binary)\n",
    "plt.title(train_labels[0])"
   ]
  },
  {
   "cell_type": "code",
   "execution_count": 27,
   "metadata": {},
   "outputs": [
    {
     "name": "stdout",
     "output_type": "stream",
     "text": [
      "Epoch 1/10\n",
      "1875/1875 [==============================] - 6s 3ms/step - loss: 2.1016 - accuracy: 0.3578\n",
      "Epoch 2/10\n",
      "1875/1875 [==============================] - 4s 2ms/step - loss: 1.5372 - accuracy: 0.4460\n",
      "Epoch 3/10\n",
      "1875/1875 [==============================] - 5s 3ms/step - loss: 1.4237 - accuracy: 0.4912\n",
      "Epoch 4/10\n",
      "1875/1875 [==============================] - 7s 4ms/step - loss: 1.3397 - accuracy: 0.5323\n",
      "Epoch 5/10\n",
      "1875/1875 [==============================] - 5s 3ms/step - loss: 1.2123 - accuracy: 0.5794\n",
      "Epoch 6/10\n",
      "1875/1875 [==============================] - 4s 2ms/step - loss: 1.1531 - accuracy: 0.6092\n",
      "Epoch 7/10\n",
      "1875/1875 [==============================] - 5s 3ms/step - loss: 1.0646 - accuracy: 0.6629\n",
      "Epoch 8/10\n",
      "1875/1875 [==============================] - 6s 3ms/step - loss: 1.0379 - accuracy: 0.6751\n",
      "Epoch 9/10\n",
      "1875/1875 [==============================] - 7s 4ms/step - loss: 1.0173 - accuracy: 0.6867\n",
      "Epoch 10/10\n",
      "1875/1875 [==============================] - 6s 3ms/step - loss: 0.9638 - accuracy: 0.7215\n"
     ]
    },
    {
     "data": {
      "text/plain": [
       "<keras.callbacks.History at 0x2539ed58ac0>"
      ]
     },
     "execution_count": 27,
     "metadata": {},
     "output_type": "execute_result"
    }
   ],
   "source": [
    "model = tf.keras.Sequential([\n",
    "    tf.keras.layers.Flatten(input_shape=(28,28)),\n",
    "    tf.keras.layers.Dense(10, activation='relu'),\n",
    "    tf.keras.layers.Dense(10, activation='softmax')\n",
    "])\n",
    "\n",
    "model.compile(loss='SparseCategoricalCrossentropy', optimizer=tf.keras.optimizers.RMSprop(), metrics='accuracy')\n",
    "\n",
    "model.fit(train_data, train_labels, epochs = 10)"
   ]
  },
  {
   "cell_type": "code",
   "execution_count": 28,
   "metadata": {},
   "outputs": [
    {
     "name": "stdout",
     "output_type": "stream",
     "text": [
      "313/313 [==============================] - 1s 3ms/step - loss: 1.1448 - accuracy: 0.7191\n"
     ]
    },
    {
     "data": {
      "text/plain": [
       "[1.1447800397872925, 0.7190999984741211]"
      ]
     },
     "execution_count": 28,
     "metadata": {},
     "output_type": "execute_result"
    }
   ],
   "source": [
    "model.evaluate(test_data, test_labels)"
   ]
  },
  {
   "cell_type": "code",
   "execution_count": 29,
   "metadata": {},
   "outputs": [],
   "source": [
    "train_data_norm = train_data.astype('float32') / 255\n",
    "test_data_norm = test_data.astype('float32') / 255"
   ]
  },
  {
   "cell_type": "code",
   "execution_count": 30,
   "metadata": {},
   "outputs": [
    {
     "data": {
      "text/plain": [
       "(0.0, 1.0)"
      ]
     },
     "execution_count": 30,
     "metadata": {},
     "output_type": "execute_result"
    }
   ],
   "source": [
    "train_data_norm.min(), train_data_norm.max()"
   ]
  },
  {
   "cell_type": "code",
   "execution_count": 31,
   "metadata": {},
   "outputs": [
    {
     "data": {
      "text/plain": [
       "(0.0, 1.0)"
      ]
     },
     "execution_count": 31,
     "metadata": {},
     "output_type": "execute_result"
    }
   ],
   "source": [
    "test_data_norm.min(), test_data_norm.max()"
   ]
  },
  {
   "cell_type": "code",
   "execution_count": 34,
   "metadata": {},
   "outputs": [
    {
     "name": "stdout",
     "output_type": "stream",
     "text": [
      "Epoch 1/10\n",
      "1875/1875 [==============================] - 7s 3ms/step - loss: 0.5011 - accuracy: 0.8586\n",
      "Epoch 2/10\n",
      "1875/1875 [==============================] - 7s 3ms/step - loss: 0.2792 - accuracy: 0.9213\n",
      "Epoch 3/10\n",
      "1875/1875 [==============================] - 6s 3ms/step - loss: 0.2515 - accuracy: 0.9283\n",
      "Epoch 4/10\n",
      "1875/1875 [==============================] - 5s 3ms/step - loss: 0.2379 - accuracy: 0.9323\n",
      "Epoch 5/10\n",
      "1875/1875 [==============================] - 6s 3ms/step - loss: 0.2296 - accuracy: 0.9351\n",
      "Epoch 6/10\n",
      "1875/1875 [==============================] - 6s 3ms/step - loss: 0.2230 - accuracy: 0.9372\n",
      "Epoch 7/10\n",
      "1875/1875 [==============================] - 7s 3ms/step - loss: 0.2187 - accuracy: 0.9376\n",
      "Epoch 8/10\n",
      "1875/1875 [==============================] - 6s 3ms/step - loss: 0.2157 - accuracy: 0.9387\n",
      "Epoch 9/10\n",
      "1875/1875 [==============================] - 6s 3ms/step - loss: 0.2116 - accuracy: 0.9398\n",
      "Epoch 10/10\n",
      "1875/1875 [==============================] - 6s 3ms/step - loss: 0.2097 - accuracy: 0.9410\n"
     ]
    },
    {
     "data": {
      "text/plain": [
       "<keras.callbacks.History at 0x2539ff13310>"
      ]
     },
     "execution_count": 34,
     "metadata": {},
     "output_type": "execute_result"
    }
   ],
   "source": [
    "model_2 = tf.keras.Sequential([\n",
    "    tf.keras.layers.Flatten(input_shape=(28,28)),\n",
    "    tf.keras.layers.Dense(10, activation='relu'),\n",
    "    tf.keras.layers.Dense(10, activation='softmax')\n",
    "])\n",
    "\n",
    "model_2.compile(loss='SparseCategoricalCrossentropy', optimizer=tf.keras.optimizers.RMSprop(), metrics='accuracy')\n",
    "\n",
    "model_2.fit(train_data_norm, train_labels, epochs = 10)"
   ]
  },
  {
   "cell_type": "code",
   "execution_count": 35,
   "metadata": {},
   "outputs": [
    {
     "name": "stdout",
     "output_type": "stream",
     "text": [
      "313/313 [==============================] - 1s 1ms/step - loss: 0.2188 - accuracy: 0.9359\n"
     ]
    },
    {
     "data": {
      "text/plain": [
       "[0.21881359815597534, 0.9358999729156494]"
      ]
     },
     "execution_count": 35,
     "metadata": {},
     "output_type": "execute_result"
    }
   ],
   "source": [
    "model_2.evaluate(test_data_norm, test_labels)"
   ]
  },
  {
   "cell_type": "code",
   "execution_count": 47,
   "metadata": {},
   "outputs": [
    {
     "name": "stdout",
     "output_type": "stream",
     "text": [
      "Epoch 1/20\n",
      "1875/1875 [==============================] - 15s 8ms/step - loss: 0.2022 - accuracy: 0.9406\n",
      "Epoch 2/20\n",
      "1875/1875 [==============================] - 14s 8ms/step - loss: 0.0895 - accuracy: 0.9744\n",
      "Epoch 3/20\n",
      "1875/1875 [==============================] - 14s 7ms/step - loss: 0.0648 - accuracy: 0.9823\n",
      "Epoch 4/20\n",
      "1875/1875 [==============================] - 14s 7ms/step - loss: 0.0504 - accuracy: 0.9860\n",
      "Epoch 5/20\n",
      "1875/1875 [==============================] - 14s 7ms/step - loss: 0.0410 - accuracy: 0.9890\n",
      "Epoch 6/20\n",
      "1875/1875 [==============================] - 13s 7ms/step - loss: 0.0317 - accuracy: 0.9912\n",
      "Epoch 7/20\n",
      "1875/1875 [==============================] - 14s 7ms/step - loss: 0.0267 - accuracy: 0.9926\n",
      "Epoch 8/20\n",
      "1875/1875 [==============================] - 14s 7ms/step - loss: 0.0216 - accuracy: 0.9945\n",
      "Epoch 9/20\n",
      "1875/1875 [==============================] - 13s 7ms/step - loss: 0.0185 - accuracy: 0.9954\n",
      "Epoch 10/20\n",
      "1875/1875 [==============================] - 11s 6ms/step - loss: 0.0162 - accuracy: 0.9959\n",
      "Epoch 11/20\n",
      "1875/1875 [==============================] - 12s 7ms/step - loss: 0.0126 - accuracy: 0.9969\n",
      "Epoch 12/20\n",
      "1875/1875 [==============================] - 11s 6ms/step - loss: 0.0093 - accuracy: 0.9976\n",
      "Epoch 13/20\n",
      "1875/1875 [==============================] - 11s 6ms/step - loss: 0.0088 - accuracy: 0.9977\n",
      "Epoch 14/20\n",
      "1875/1875 [==============================] - 11s 6ms/step - loss: 0.0073 - accuracy: 0.9979\n",
      "Epoch 15/20\n",
      "1875/1875 [==============================] - 11s 6ms/step - loss: 0.0058 - accuracy: 0.9985\n",
      "Epoch 16/20\n",
      "1875/1875 [==============================] - 11s 6ms/step - loss: 0.0048 - accuracy: 0.9988\n",
      "Epoch 17/20\n",
      "1875/1875 [==============================] - 11s 6ms/step - loss: 0.0043 - accuracy: 0.9988\n",
      "Epoch 18/20\n",
      "1875/1875 [==============================] - 11s 6ms/step - loss: 0.0040 - accuracy: 0.9991\n",
      "Epoch 19/20\n",
      "1875/1875 [==============================] - 11s 6ms/step - loss: 0.0035 - accuracy: 0.9991\n",
      "Epoch 20/20\n",
      "1875/1875 [==============================] - 11s 6ms/step - loss: 0.0026 - accuracy: 0.9994\n"
     ]
    }
   ],
   "source": [
    "model_3 = tf.keras.Sequential([\n",
    "    tf.keras.layers.Flatten(input_shape=(28,28)),\n",
    "    tf.keras.layers.Dense(512, activation='relu'),\n",
    "    tf.keras.layers.Dense(10, activation='softmax')\n",
    "])\n",
    "\n",
    "model_3.compile(loss='SparseCategoricalCrossentropy', optimizer=tf.keras.optimizers.RMSprop(), metrics='accuracy')\n",
    "\n",
    "history = model_3.fit(train_data_norm, train_labels, epochs = 20)"
   ]
  },
  {
   "cell_type": "code",
   "execution_count": 49,
   "metadata": {},
   "outputs": [
    {
     "name": "stdout",
     "output_type": "stream",
     "text": [
      "313/313 [==============================] - 1s 2ms/step - loss: 0.1509 - accuracy: 0.9819\n"
     ]
    },
    {
     "data": {
      "text/plain": [
       "[0.15087327361106873, 0.9818999767303467]"
      ]
     },
     "execution_count": 49,
     "metadata": {},
     "output_type": "execute_result"
    }
   ],
   "source": [
    "model_3.evaluate(test_data_norm, test_labels)"
   ]
  },
  {
   "cell_type": "code",
   "execution_count": 50,
   "metadata": {},
   "outputs": [
    {
     "data": {
      "text/plain": [
       "<AxesSubplot:>"
      ]
     },
     "execution_count": 50,
     "metadata": {},
     "output_type": "execute_result"
    },
    {
     "data": {
      "image/png": "[encoded data removed]",
      "text/plain": [
       "<Figure size 432x288 with 1 Axes>"
      ]
     },
     "metadata": {
      "needs_background": "light"
     },
     "output_type": "display_data"
    }
   ],
   "source": [
    "pd.DataFrame(history.history).plot()"
   ]
  },
  {
   "cell_type": "code",
   "execution_count": 52,
   "metadata": {},
   "outputs": [
    {
     "name": "stdout",
     "output_type": "stream",
     "text": [
      "Epoch 1/20\n",
      "1875/1875 [==============================] - 16s 8ms/step - loss: 0.1995 - accuracy: 0.9434\n",
      "Epoch 2/20\n",
      "1875/1875 [==============================] - 16s 8ms/step - loss: 0.0781 - accuracy: 0.9760\n",
      "Epoch 3/20\n",
      "1875/1875 [==============================] - 16s 8ms/step - loss: 0.0519 - accuracy: 0.9836\n",
      "Epoch 4/20\n",
      "1875/1875 [==============================] - 16s 8ms/step - loss: 0.0359 - accuracy: 0.9882\n",
      "Epoch 5/20\n",
      "1875/1875 [==============================] - 15s 8ms/step - loss: 0.0270 - accuracy: 0.9914\n",
      "Epoch 6/20\n",
      "1875/1875 [==============================] - 15s 8ms/step - loss: 0.0203 - accuracy: 0.9936\n",
      "Epoch 7/20\n",
      "1875/1875 [==============================] - 15s 8ms/step - loss: 0.0167 - accuracy: 0.9944\n",
      "Epoch 8/20\n",
      "1875/1875 [==============================] - 15s 8ms/step - loss: 0.0138 - accuracy: 0.9952\n",
      "Epoch 9/20\n",
      "1875/1875 [==============================] - 15s 8ms/step - loss: 0.0130 - accuracy: 0.9955\n",
      "Epoch 10/20\n",
      "1875/1875 [==============================] - 15s 8ms/step - loss: 0.0111 - accuracy: 0.9963\n",
      "Epoch 11/20\n",
      "1875/1875 [==============================] - 15s 8ms/step - loss: 0.0104 - accuracy: 0.9965\n",
      "Epoch 12/20\n",
      "1875/1875 [==============================] - 15s 8ms/step - loss: 0.0088 - accuracy: 0.9969\n",
      "Epoch 13/20\n",
      "1875/1875 [==============================] - 15s 8ms/step - loss: 0.0085 - accuracy: 0.9971\n",
      "Epoch 14/20\n",
      "1875/1875 [==============================] - 15s 8ms/step - loss: 0.0073 - accuracy: 0.9977\n",
      "Epoch 15/20\n",
      "1875/1875 [==============================] - 15s 8ms/step - loss: 0.0079 - accuracy: 0.9974\n",
      "Epoch 16/20\n",
      "1875/1875 [==============================] - 15s 8ms/step - loss: 0.0064 - accuracy: 0.9978\n",
      "Epoch 17/20\n",
      "1875/1875 [==============================] - 15s 8ms/step - loss: 0.0046 - accuracy: 0.9985\n",
      "Epoch 18/20\n",
      "1875/1875 [==============================] - 16s 8ms/step - loss: 0.0076 - accuracy: 0.9976\n",
      "Epoch 19/20\n",
      "1875/1875 [==============================] - 15s 8ms/step - loss: 0.0058 - accuracy: 0.9979\n",
      "Epoch 20/20\n",
      "1875/1875 [==============================] - 15s 8ms/step - loss: 0.0051 - accuracy: 0.9984\n"
     ]
    }
   ],
   "source": [
    "model_4 = tf.keras.Sequential([\n",
    "    tf.keras.layers.Flatten(input_shape=(28,28)),\n",
    "    tf.keras.layers.Dense(512, activation='relu'),\n",
    "    tf.keras.layers.Dense(10, activation='softmax')\n",
    "])\n",
    "\n",
    "model_4.compile(loss='SparseCategoricalCrossentropy', optimizer=tf.keras.optimizers.Nadam(), metrics='accuracy')\n",
    "\n",
    "history2 = model_4.fit(train_data_norm, train_labels, epochs = 20)"
   ]
  },
  {
   "cell_type": "code",
   "execution_count": 53,
   "metadata": {},
   "outputs": [
    {
     "name": "stdout",
     "output_type": "stream",
     "text": [
      "313/313 [==============================] - 1s 2ms/step - loss: 0.1268 - accuracy: 0.9796\n"
     ]
    },
    {
     "data": {
      "text/plain": [
       "[0.12678223848342896, 0.9796000123023987]"
      ]
     },
     "execution_count": 53,
     "metadata": {},
     "output_type": "execute_result"
    }
   ],
   "source": [
    "model_4.evaluate(test_data_norm, test_labels)"
   ]
  },
  {
   "cell_type": "code",
   "execution_count": 54,
   "metadata": {},
   "outputs": [
    {
     "data": {
      "text/plain": [
       "<AxesSubplot:>"
      ]
     },
     "execution_count": 54,
     "metadata": {},
     "output_type": "execute_result"
    },
    {
     "data": {
      "image/png": "[encoded data removed]",
      "text/plain": [
       "<Figure size 432x288 with 1 Axes>"
      ]
     },
     "metadata": {
      "needs_background": "light"
     },
     "output_type": "display_data"
    }
   ],
   "source": [
    "pd.DataFrame(history2.history).plot()"
   ]
  },
  {
   "cell_type": "code",
   "execution_count": 55,
   "metadata": {},
   "outputs": [
    {
     "name": "stdout",
     "output_type": "stream",
     "text": [
      "Epoch 1/20\n",
      "1875/1875 [==============================] - 16s 8ms/step - loss: 0.2009 - accuracy: 0.9417 - lr: 0.0010\n",
      "Epoch 2/20\n",
      "1875/1875 [==============================] - 16s 8ms/step - loss: 0.0819 - accuracy: 0.9752 - lr: 0.0011\n",
      "Epoch 3/20\n",
      "1875/1875 [==============================] - 15s 8ms/step - loss: 0.0569 - accuracy: 0.9821 - lr: 0.0013\n",
      "Epoch 4/20\n",
      "1875/1875 [==============================] - 15s 8ms/step - loss: 0.0435 - accuracy: 0.9861 - lr: 0.0014\n",
      "Epoch 5/20\n",
      "1875/1875 [==============================] - 15s 8ms/step - loss: 0.0399 - accuracy: 0.9870 - lr: 0.0016\n",
      "Epoch 6/20\n",
      "1875/1875 [==============================] - 17s 9ms/step - loss: 0.0363 - accuracy: 0.9883 - lr: 0.0018\n",
      "Epoch 7/20\n",
      "1875/1875 [==============================] - 15s 8ms/step - loss: 0.0384 - accuracy: 0.9876 - lr: 0.0020\n",
      "Epoch 8/20\n",
      "1875/1875 [==============================] - 15s 8ms/step - loss: 0.0380 - accuracy: 0.9877 - lr: 0.0022\n",
      "Epoch 9/20\n",
      "1875/1875 [==============================] - 16s 8ms/step - loss: 0.0376 - accuracy: 0.9883 - lr: 0.0025\n",
      "Epoch 10/20\n",
      "1875/1875 [==============================] - 15s 8ms/step - loss: 0.0459 - accuracy: 0.9867 - lr: 0.0028\n",
      "Epoch 11/20\n",
      "1875/1875 [==============================] - 15s 8ms/step - loss: 0.0473 - accuracy: 0.9872 - lr: 0.0032\n",
      "Epoch 12/20\n",
      "1875/1875 [==============================] - 15s 8ms/step - loss: 0.0563 - accuracy: 0.9862 - lr: 0.0035\n",
      "Epoch 13/20\n",
      "1875/1875 [==============================] - 15s 8ms/step - loss: 0.0658 - accuracy: 0.9852 - lr: 0.0040\n",
      "Epoch 14/20\n",
      "1875/1875 [==============================] - 15s 8ms/step - loss: 0.0671 - accuracy: 0.9846 - lr: 0.0045\n",
      "Epoch 15/20\n",
      "1875/1875 [==============================] - 15s 8ms/step - loss: 0.0949 - accuracy: 0.9829 - lr: 0.0050\n",
      "Epoch 16/20\n",
      "1875/1875 [==============================] - 15s 8ms/step - loss: 0.0814 - accuracy: 0.9848 - lr: 0.0056\n",
      "Epoch 17/20\n",
      "1875/1875 [==============================] - 15s 8ms/step - loss: 0.1127 - accuracy: 0.9815 - lr: 0.0063\n",
      "Epoch 18/20\n",
      "1875/1875 [==============================] - 15s 8ms/step - loss: 0.1313 - accuracy: 0.9801 - lr: 0.0071\n",
      "Epoch 19/20\n",
      "1875/1875 [==============================] - 15s 8ms/step - loss: 0.1462 - accuracy: 0.9801 - lr: 0.0079\n",
      "Epoch 20/20\n",
      "1875/1875 [==============================] - 15s 8ms/step - loss: 0.1770 - accuracy: 0.9799 - lr: 0.0089\n"
     ]
    }
   ],
   "source": [
    "model_5 = tf.keras.Sequential([\n",
    "    tf.keras.layers.Flatten(input_shape=(28,28)),\n",
    "    tf.keras.layers.Dense(512, activation='relu'),\n",
    "    tf.keras.layers.Dense(10, activation='softmax')\n",
    "])\n",
    "\n",
    "model_5.compile(loss='SparseCategoricalCrossentropy', optimizer=tf.keras.optimizers.Nadam(), metrics='accuracy')\n",
    "\n",
    "lr_scheduler = tf.keras.callbacks.LearningRateScheduler(lambda epoch: 1e-3 * 10**(epoch/20))\n",
    "\n",
    "lr_history = model_5.fit(train_data_norm, train_labels, epochs = 20, callbacks = [lr_scheduler])"
   ]
  },
  {
   "cell_type": "code",
   "execution_count": 57,
   "metadata": {},
   "outputs": [
    {
     "data": {
      "text/plain": [
       "<AxesSubplot:>"
      ]
     },
     "execution_count": 57,
     "metadata": {},
     "output_type": "execute_result"
    },
    {
     "data": {
      "image/png": "[encoded data removed]",
      "text/plain": [
       "<Figure size 432x288 with 1 Axes>"
      ]
     },
     "metadata": {
      "needs_background": "light"
     },
     "output_type": "display_data"
    }
   ],
   "source": [
    "pd.DataFrame(lr_history.history['loss']).plot()"
   ]
  },
  {
   "cell_type": "code",
   "execution_count": 58,
   "metadata": {},
   "outputs": [
    {
     "name": "stdout",
     "output_type": "stream",
     "text": [
      "Epoch 1/20\n",
      "1875/1875 [==============================] - 16s 8ms/step - loss: 0.1885 - accuracy: 0.9442\n",
      "Epoch 2/20\n",
      "1875/1875 [==============================] - 15s 8ms/step - loss: 0.0780 - accuracy: 0.9761\n",
      "Epoch 3/20\n",
      "1875/1875 [==============================] - 15s 8ms/step - loss: 0.0526 - accuracy: 0.9832\n",
      "Epoch 4/20\n",
      "1875/1875 [==============================] - 15s 8ms/step - loss: 0.0368 - accuracy: 0.9884\n",
      "Epoch 5/20\n",
      "1875/1875 [==============================] - 15s 8ms/step - loss: 0.0299 - accuracy: 0.9902\n",
      "Epoch 6/20\n",
      "1875/1875 [==============================] - 15s 8ms/step - loss: 0.0235 - accuracy: 0.9915\n",
      "Epoch 7/20\n",
      "1875/1875 [==============================] - 15s 8ms/step - loss: 0.0195 - accuracy: 0.9933\n",
      "Epoch 8/20\n",
      "1875/1875 [==============================] - 15s 8ms/step - loss: 0.0172 - accuracy: 0.9944\n",
      "Epoch 9/20\n",
      "1875/1875 [==============================] - 15s 8ms/step - loss: 0.0150 - accuracy: 0.9950\n",
      "Epoch 10/20\n",
      "1875/1875 [==============================] - 15s 8ms/step - loss: 0.0130 - accuracy: 0.9957\n",
      "Epoch 11/20\n",
      "1875/1875 [==============================] - 15s 8ms/step - loss: 0.0137 - accuracy: 0.9952\n",
      "Epoch 12/20\n",
      "1875/1875 [==============================] - 15s 8ms/step - loss: 0.0133 - accuracy: 0.9956\n",
      "Epoch 13/20\n",
      "1875/1875 [==============================] - 16s 8ms/step - loss: 0.0099 - accuracy: 0.9969\n",
      "Epoch 14/20\n",
      "1875/1875 [==============================] - 15s 8ms/step - loss: 0.0133 - accuracy: 0.9959\n",
      "Epoch 15/20\n",
      "1875/1875 [==============================] - 15s 8ms/step - loss: 0.0099 - accuracy: 0.9967\n",
      "Epoch 16/20\n",
      "1875/1875 [==============================] - 15s 8ms/step - loss: 0.0103 - accuracy: 0.9969\n",
      "Epoch 17/20\n",
      "1875/1875 [==============================] - 15s 8ms/step - loss: 0.0084 - accuracy: 0.9974\n",
      "Epoch 18/20\n",
      "1875/1875 [==============================] - 16s 8ms/step - loss: 0.0109 - accuracy: 0.9969\n",
      "Epoch 19/20\n",
      "1875/1875 [==============================] - 18s 10ms/step - loss: 0.0076 - accuracy: 0.9976\n",
      "Epoch 20/20\n",
      "1875/1875 [==============================] - 19s 10ms/step - loss: 0.0105 - accuracy: 0.9966\n"
     ]
    },
    {
     "data": {
      "text/plain": [
       "<keras.callbacks.History at 0x253a1021df0>"
      ]
     },
     "execution_count": 58,
     "metadata": {},
     "output_type": "execute_result"
    }
   ],
   "source": [
    "model_6 = tf.keras.Sequential([\n",
    "    tf.keras.layers.Flatten(input_shape=(28,28)),\n",
    "    tf.keras.layers.Dense(512, activation='relu'),\n",
    "    tf.keras.layers.Dense(10, activation='softmax')\n",
    "])\n",
    "\n",
    "model_6.compile(loss='SparseCategoricalCrossentropy', \n",
    "                optimizer=tf.keras.optimizers.Nadam(learning_rate=0.0014), \n",
    "                metrics='accuracy')\n",
    "\n",
    "model_6.fit(train_data_norm, train_labels, epochs = 20)"
   ]
  },
  {
   "cell_type": "code",
   "execution_count": 59,
   "metadata": {},
   "outputs": [
    {
     "name": "stdout",
     "output_type": "stream",
     "text": [
      "313/313 [==============================] - 1s 2ms/step - loss: 0.1670 - accuracy: 0.9789\n"
     ]
    },
    {
     "data": {
      "text/plain": [
       "[0.16695143282413483, 0.9789000153541565]"
      ]
     },
     "execution_count": 59,
     "metadata": {},
     "output_type": "execute_result"
    }
   ],
   "source": [
    "model_6.evaluate(test_data_norm, test_labels)"
   ]
  },
  {
   "cell_type": "code",
   "execution_count": 60,
   "metadata": {},
   "outputs": [
    {
     "name": "stdout",
     "output_type": "stream",
     "text": [
      "Epoch 1/20\n",
      "1875/1875 [==============================] - 15s 8ms/step - loss: 0.1856 - accuracy: 0.9434\n",
      "Epoch 2/20\n",
      "1875/1875 [==============================] - 14s 8ms/step - loss: 0.0777 - accuracy: 0.9756\n",
      "Epoch 3/20\n",
      "1875/1875 [==============================] - 14s 8ms/step - loss: 0.0518 - accuracy: 0.9835\n",
      "Epoch 4/20\n",
      "1875/1875 [==============================] - 14s 8ms/step - loss: 0.0379 - accuracy: 0.9870\n",
      "Epoch 5/20\n",
      "1875/1875 [==============================] - 14s 8ms/step - loss: 0.0326 - accuracy: 0.9895\n",
      "Epoch 6/20\n",
      "1875/1875 [==============================] - 14s 8ms/step - loss: 0.0267 - accuracy: 0.9915\n",
      "Epoch 7/20\n",
      "1875/1875 [==============================] - 14s 8ms/step - loss: 0.0212 - accuracy: 0.9927\n",
      "Epoch 8/20\n",
      "1875/1875 [==============================] - 14s 8ms/step - loss: 0.0185 - accuracy: 0.9939\n",
      "Epoch 9/20\n",
      "1875/1875 [==============================] - 14s 8ms/step - loss: 0.0185 - accuracy: 0.9941\n",
      "Epoch 10/20\n",
      "1875/1875 [==============================] - 14s 8ms/step - loss: 0.0156 - accuracy: 0.9953\n",
      "Epoch 11/20\n",
      "1875/1875 [==============================] - 14s 8ms/step - loss: 0.0146 - accuracy: 0.9952\n",
      "Epoch 12/20\n",
      "1875/1875 [==============================] - 14s 8ms/step - loss: 0.0173 - accuracy: 0.9950\n",
      "Epoch 13/20\n",
      "1875/1875 [==============================] - 14s 8ms/step - loss: 0.0125 - accuracy: 0.9959\n",
      "Epoch 14/20\n",
      "1875/1875 [==============================] - 14s 8ms/step - loss: 0.0122 - accuracy: 0.9962\n",
      "Epoch 15/20\n",
      "1875/1875 [==============================] - 14s 8ms/step - loss: 0.0119 - accuracy: 0.9966\n",
      "Epoch 16/20\n",
      "1875/1875 [==============================] - 14s 8ms/step - loss: 0.0133 - accuracy: 0.9961\n",
      "Epoch 17/20\n",
      "1875/1875 [==============================] - 15s 8ms/step - loss: 0.0101 - accuracy: 0.9970\n",
      "Epoch 18/20\n",
      "1875/1875 [==============================] - 14s 8ms/step - loss: 0.0124 - accuracy: 0.9960\n",
      "Epoch 19/20\n",
      "1875/1875 [==============================] - 14s 8ms/step - loss: 0.0109 - accuracy: 0.9970\n",
      "Epoch 20/20\n",
      "1875/1875 [==============================] - 15s 8ms/step - loss: 0.0112 - accuracy: 0.9970\n"
     ]
    },
    {
     "data": {
      "text/plain": [
       "<keras.callbacks.History at 0x253a11e1cd0>"
      ]
     },
     "execution_count": 60,
     "metadata": {},
     "output_type": "execute_result"
    }
   ],
   "source": [
    "model_7 = tf.keras.Sequential([\n",
    "    tf.keras.layers.Flatten(input_shape=(28,28)),\n",
    "    tf.keras.layers.Dense(512, activation='relu'),\n",
    "    tf.keras.layers.Dense(10, activation='softmax')\n",
    "])\n",
    "\n",
    "model_7.compile(loss='SparseCategoricalCrossentropy', \n",
    "                optimizer=tf.keras.optimizers.Nadam(learning_rate=0.0016), \n",
    "                metrics='accuracy')\n",
    "\n",
    "model_7.fit(train_data_norm, train_labels, epochs = 20)"
   ]
  },
  {
   "cell_type": "code",
   "execution_count": 61,
   "metadata": {},
   "outputs": [
    {
     "name": "stdout",
     "output_type": "stream",
     "text": [
      "313/313 [==============================] - 1s 2ms/step - loss: 0.1295 - accuracy: 0.9814\n"
     ]
    },
    {
     "data": {
      "text/plain": [
       "[0.1294921636581421, 0.9814000129699707]"
      ]
     },
     "execution_count": 61,
     "metadata": {},
     "output_type": "execute_result"
    }
   ],
   "source": [
    "model_7.evaluate(test_data_norm, test_labels)"
   ]
  },
  {
   "cell_type": "code",
   "execution_count": 69,
   "metadata": {},
   "outputs": [
    {
     "name": "stdout",
     "output_type": "stream",
     "text": [
      "313/313 [==============================] - 1s 2ms/step - loss: 0.1268 - accuracy: 0.9796\n",
      "313/313 [==============================] - 1s 2ms/step - loss: 0.1268 - accuracy: 0.9796\n",
      "313/313 [==============================] - 1s 2ms/step - loss: 0.1670 - accuracy: 0.9789\n",
      "313/313 [==============================] - 1s 2ms/step - loss: 0.1670 - accuracy: 0.9789\n",
      "313/313 [==============================] - 1s 2ms/step - loss: 0.1295 - accuracy: 0.9814\n",
      "313/313 [==============================] - 1s 2ms/step - loss: 0.1295 - accuracy: 0.9814\n"
     ]
    },
    {
     "data": {
      "text/html": [
       "<div>\n",
       "<style scoped>\n",
       "    .dataframe tbody tr th:only-of-type {\n",
       "        vertical-align: middle;\n",
       "    }\n",
       "\n",
       "    .dataframe tbody tr th {\n",
       "        vertical-align: top;\n",
       "    }\n",
       "\n",
       "    .dataframe thead th {\n",
       "        text-align: right;\n",
       "    }\n",
       "</style>\n",
       "<table border=\"1\" class=\"dataframe\">\n",
       "  <thead>\n",
       "    <tr style=\"text-align: right;\">\n",
       "      <th></th>\n",
       "      <th>accuracy</th>\n",
       "      <th>loss</th>\n",
       "      <th>epochs</th>\n",
       "      <th>learning rate</th>\n",
       "    </tr>\n",
       "  </thead>\n",
       "  <tbody>\n",
       "    <tr>\n",
       "      <th>model_4</th>\n",
       "      <td>0.9796</td>\n",
       "      <td>0.126782</td>\n",
       "      <td>20.0</td>\n",
       "      <td>0.0010</td>\n",
       "    </tr>\n",
       "    <tr>\n",
       "      <th>model_6</th>\n",
       "      <td>0.9789</td>\n",
       "      <td>0.166951</td>\n",
       "      <td>20.0</td>\n",
       "      <td>0.0014</td>\n",
       "    </tr>\n",
       "    <tr>\n",
       "      <th>model_7</th>\n",
       "      <td>0.9814</td>\n",
       "      <td>0.129492</td>\n",
       "      <td>20.0</td>\n",
       "      <td>0.0016</td>\n",
       "    </tr>\n",
       "  </tbody>\n",
       "</table>\n",
       "</div>"
      ],
      "text/plain": [
       "         accuracy      loss  epochs  learning rate\n",
       "model_4    0.9796  0.126782    20.0         0.0010\n",
       "model_6    0.9789  0.166951    20.0         0.0014\n",
       "model_7    0.9814  0.129492    20.0         0.0016"
      ]
     },
     "execution_count": 69,
     "metadata": {},
     "output_type": "execute_result"
    }
   ],
   "source": [
    "df = pd.DataFrame(np.array([[\n",
    "    model_4.evaluate(test_data_norm, test_labels)[1], model_4.evaluate(test_data_norm, test_labels)[0], 20, 0.001\n",
    "],[\n",
    "    model_6.evaluate(test_data_norm, test_labels)[1], model_6.evaluate(test_data_norm, test_labels)[0], 20, 0.0014\n",
    "],[\n",
    "    model_7.evaluate(test_data_norm, test_labels)[1], model_7.evaluate(test_data_norm, test_labels)[0], 20, 0.0016\n",
    "]]),columns=['accuracy','loss','epochs','learning rate'], index=['model_4','model_6','model_7'])\n",
    "\n",
    "df"
   ]
  },
  {
   "cell_type": "code",
   "execution_count": 70,
   "metadata": {},
   "outputs": [
    {
     "name": "stdout",
     "output_type": "stream",
     "text": [
      "313/313 [==============================] - 1s 1ms/step\n"
     ]
    }
   ],
   "source": [
    "y_pred = model_4.predict(test_data_norm)"
   ]
  },
  {
   "cell_type": "code",
   "execution_count": 124,
   "metadata": {},
   "outputs": [
    {
     "data": {
      "text/plain": [
       "((10000, 10), (10000,))"
      ]
     },
     "execution_count": 124,
     "metadata": {},
     "output_type": "execute_result"
    }
   ],
   "source": [
    "y_pred.shape, test_labels.shape"
   ]
  },
  {
   "cell_type": "code",
   "execution_count": 125,
   "metadata": {},
   "outputs": [
    {
     "data": {
      "text/plain": [
       "array([[0., 0., 0., 0., 0., 0., 0., 1., 0., 0.],\n",
       "       [0., 0., 1., 0., 0., 0., 0., 0., 0., 0.],\n",
       "       [0., 1., 0., 0., 0., 0., 0., 0., 0., 0.],\n",
       "       [1., 0., 0., 0., 0., 0., 0., 0., 0., 0.],\n",
       "       [0., 0., 0., 0., 1., 0., 0., 0., 0., 0.],\n",
       "       [0., 1., 0., 0., 0., 0., 0., 0., 0., 0.],\n",
       "       [0., 0., 0., 0., 1., 0., 0., 0., 0., 0.],\n",
       "       [0., 0., 0., 0., 0., 0., 0., 0., 0., 1.],\n",
       "       [0., 0., 0., 0., 0., 1., 0., 0., 0., 0.],\n",
       "       [0., 0., 0., 0., 0., 0., 0., 0., 0., 1.]], dtype=float32)"
      ]
     },
     "execution_count": 125,
     "metadata": {},
     "output_type": "execute_result"
    }
   ],
   "source": [
    "y_pred[:10].round()"
   ]
  },
  {
   "cell_type": "code",
   "execution_count": 126,
   "metadata": {},
   "outputs": [],
   "source": [
    "y_pred = y_pred.round()"
   ]
  },
  {
   "cell_type": "code",
   "execution_count": 128,
   "metadata": {},
   "outputs": [
    {
     "data": {
      "text/plain": [
       "array([7., 2., 1., ..., 4., 5., 6.])"
      ]
     },
     "execution_count": 128,
     "metadata": {},
     "output_type": "execute_result"
    }
   ],
   "source": [
    "test_pred = np.array([])\n",
    "\n",
    "for i in range(y_pred.shape[0]):\n",
    "    test_pred = np.append(test_pred, y_pred[i].argmax())\n",
    "    \n",
    "test_pred"
   ]
  },
  {
   "cell_type": "code",
   "execution_count": 87,
   "metadata": {},
   "outputs": [
    {
     "data": {
      "text/plain": [
       "array([7, 2, 1, 0, 4, 1, 4, 9, 5, 9], dtype=uint8)"
      ]
     },
     "execution_count": 87,
     "metadata": {},
     "output_type": "execute_result"
    }
   ],
   "source": [
    "test_labels[:10]"
   ]
  },
  {
   "cell_type": "code",
   "execution_count": 129,
   "metadata": {},
   "outputs": [
    {
     "data": {
      "text/plain": [
       "((10000,), (10000,))"
      ]
     },
     "execution_count": 129,
     "metadata": {},
     "output_type": "execute_result"
    }
   ],
   "source": [
    "test_labels.shape, test_pred.shape"
   ]
  },
  {
   "cell_type": "code",
   "execution_count": 130,
   "metadata": {},
   "outputs": [
    {
     "data": {
      "text/plain": [
       "<tf.Tensor: shape=(10, 10), dtype=int32, numpy=\n",
       "array([[ 970,    1,    1,    2,    1,    0,    1,    1,    3,    0],\n",
       "       [   0, 1125,    3,    1,    0,    0,    2,    2,    2,    0],\n",
       "       [   0,    1, 1012,    2,    3,    0,    3,    4,    6,    1],\n",
       "       [   1,    0,    4,  993,    0,    0,    0,    4,    2,    6],\n",
       "       [   1,    1,    5,    0,  969,    0,    2,    0,    0,    4],\n",
       "       [   3,    1,    0,   22,    5,  839,    5,    1,   14,    2],\n",
       "       [   3,    2,    1,    1,    3,    0,  945,    0,    3,    0],\n",
       "       [   2,    0,    8,    0,    2,    0,    0, 1007,    6,    3],\n",
       "       [   1,    0,    3,    5,    0,    0,    2,    3,  959,    1],\n",
       "       [   1,    3,    0,    2,   13,    0,    2,    5,    7,  976]])>"
      ]
     },
     "execution_count": 130,
     "metadata": {},
     "output_type": "execute_result"
    }
   ],
   "source": [
    "tf.math.confusion_matrix(test_labels, test_pred)"
   ]
  },
  {
   "cell_type": "code",
   "execution_count": 146,
   "metadata": {},
   "outputs": [],
   "source": [
    "import random\n",
    "\n",
    "def random_pred():\n",
    "    index = random.randint(0, test_data_norm.shape[0])\n",
    "    plt.imshow(test_data_norm[index], cmap=plt.cm.binary)\n",
    "    plt.title(\"Prediction: \" + str(test_pred[index]) + \"\\n True: \" + str(test_labels[index]))"
   ]
  },
  {
   "cell_type": "code",
   "execution_count": 152,
   "metadata": {},
   "outputs": [
    {
     "data": {
      "image/png": "[encoded data removed]",
      "text/plain": [
       "<Figure size 432x288 with 1 Axes>"
      ]
     },
     "metadata": {
      "needs_background": "light"
     },
     "output_type": "display_data"
    }
   ],
   "source": [
    "random_pred()"
   ]
  },
  {
   "cell_type": "code",
   "execution_count": null,
   "metadata": {},
   "outputs": [],
   "source": []
  }
 ],
 "metadata": {
  "kernelspec": {
   "display_name": "Python 3",
   "language": "python",
   "name": "python3"
  },
  "language_info": {
   "codemirror_mode": {
    "name": "ipython",
    "version": 3
   },
   "file_extension": ".py",
   "mimetype": "text/x-python",
   "name": "python",
   "nbconvert_exporter": "python",
   "pygments_lexer": "ipython3",
   "version": "3.8.5"
  }
 },
 "nbformat": 4,
 "nbformat_minor": 4
}
