{
 "cells": [
  {
   "cell_type": "code",
   "execution_count": 1,
   "metadata": {},
   "outputs": [],
   "source": [
    "import tensorflow as tf\n",
    "import pandas as pd\n",
    "import numpy as np\n",
    "from tensorflow.keras.datasets import imdb"
   ]
  },
  {
   "cell_type": "code",
   "execution_count": 2,
   "metadata": {},
   "outputs": [],
   "source": [
    "(train_data, train_labels), (test_data, test_labels) = imdb.load_data(num_words=10000)"
   ]
  },
  {
   "cell_type": "code",
   "execution_count": 3,
   "metadata": {},
   "outputs": [
    {
     "data": {
      "text/plain": [
       "array([list([1, 14, 22, 16, 43, 530, 973, 1622, 1385, 65, 458, 4468, 66, 3941, 4, 173, 36, 256, 5, 25, 100, 43, 838, 112, 50, 670, 2, 9, 35, 480, 284, 5, 150, 4, 172, 112, 167, 2, 336, 385, 39, 4, 172, 4536, 1111, 17, 546, 38, 13, 447, 4, 192, 50, 16, 6, 147, 2025, 19, 14, 22, 4, 1920, 4613, 469, 4, 22, 71, 87, 12, 16, 43, 530, 38, 76, 15, 13, 1247, 4, 22, 17, 515, 17, 12, 16, 626, 18, 2, 5, 62, 386, 12, 8, 316, 8, 106, 5, 4, 2223, 5244, 16, 480, 66, 3785, 33, 4, 130, 12, 16, 38, 619, 5, 25, 124, 51, 36, 135, 48, 25, 1415, 33, 6, 22, 12, 215, 28, 77, 52, 5, 14, 407, 16, 82, 2, 8, 4, 107, 117, 5952, 15, 256, 4, 2, 7, 3766, 5, 723, 36, 71, 43, 530, 476, 26, 400, 317, 46, 7, 4, 2, 1029, 13, 104, 88, 4, 381, 15, 297, 98, 32, 2071, 56, 26, 141, 6, 194, 7486, 18, 4, 226, 22, 21, 134, 476, 26, 480, 5, 144, 30, 5535, 18, 51, 36, 28, 224, 92, 25, 104, 4, 226, 65, 16, 38, 1334, 88, 12, 16, 283, 5, 16, 4472, 113, 103, 32, 15, 16, 5345, 19, 178, 32]),\n",
       "       list([1, 194, 1153, 194, 8255, 78, 228, 5, 6, 1463, 4369, 5012, 134, 26, 4, 715, 8, 118, 1634, 14, 394, 20, 13, 119, 954, 189, 102, 5, 207, 110, 3103, 21, 14, 69, 188, 8, 30, 23, 7, 4, 249, 126, 93, 4, 114, 9, 2300, 1523, 5, 647, 4, 116, 9, 35, 8163, 4, 229, 9, 340, 1322, 4, 118, 9, 4, 130, 4901, 19, 4, 1002, 5, 89, 29, 952, 46, 37, 4, 455, 9, 45, 43, 38, 1543, 1905, 398, 4, 1649, 26, 6853, 5, 163, 11, 3215, 2, 4, 1153, 9, 194, 775, 7, 8255, 2, 349, 2637, 148, 605, 2, 8003, 15, 123, 125, 68, 2, 6853, 15, 349, 165, 4362, 98, 5, 4, 228, 9, 43, 2, 1157, 15, 299, 120, 5, 120, 174, 11, 220, 175, 136, 50, 9, 4373, 228, 8255, 5, 2, 656, 245, 2350, 5, 4, 9837, 131, 152, 491, 18, 2, 32, 7464, 1212, 14, 9, 6, 371, 78, 22, 625, 64, 1382, 9, 8, 168, 145, 23, 4, 1690, 15, 16, 4, 1355, 5, 28, 6, 52, 154, 462, 33, 89, 78, 285, 16, 145, 95]),\n",
       "       list([1, 14, 47, 8, 30, 31, 7, 4, 249, 108, 7, 4, 5974, 54, 61, 369, 13, 71, 149, 14, 22, 112, 4, 2401, 311, 12, 16, 3711, 33, 75, 43, 1829, 296, 4, 86, 320, 35, 534, 19, 263, 4821, 1301, 4, 1873, 33, 89, 78, 12, 66, 16, 4, 360, 7, 4, 58, 316, 334, 11, 4, 1716, 43, 645, 662, 8, 257, 85, 1200, 42, 1228, 2578, 83, 68, 3912, 15, 36, 165, 1539, 278, 36, 69, 2, 780, 8, 106, 14, 6905, 1338, 18, 6, 22, 12, 215, 28, 610, 40, 6, 87, 326, 23, 2300, 21, 23, 22, 12, 272, 40, 57, 31, 11, 4, 22, 47, 6, 2307, 51, 9, 170, 23, 595, 116, 595, 1352, 13, 191, 79, 638, 89, 2, 14, 9, 8, 106, 607, 624, 35, 534, 6, 227, 7, 129, 113]),\n",
       "       ...,\n",
       "       list([1, 11, 6, 230, 245, 6401, 9, 6, 1225, 446, 2, 45, 2174, 84, 8322, 4007, 21, 4, 912, 84, 2, 325, 725, 134, 2, 1715, 84, 5, 36, 28, 57, 1099, 21, 8, 140, 8, 703, 5, 2, 84, 56, 18, 1644, 14, 9, 31, 7, 4, 9406, 1209, 2295, 2, 1008, 18, 6, 20, 207, 110, 563, 12, 8, 2901, 2, 8, 97, 6, 20, 53, 4767, 74, 4, 460, 364, 1273, 29, 270, 11, 960, 108, 45, 40, 29, 2961, 395, 11, 6, 4065, 500, 7, 2, 89, 364, 70, 29, 140, 4, 64, 4780, 11, 4, 2678, 26, 178, 4, 529, 443, 2, 5, 27, 710, 117, 2, 8123, 165, 47, 84, 37, 131, 818, 14, 595, 10, 10, 61, 1242, 1209, 10, 10, 288, 2260, 1702, 34, 2901, 2, 4, 65, 496, 4, 231, 7, 790, 5, 6, 320, 234, 2766, 234, 1119, 1574, 7, 496, 4, 139, 929, 2901, 2, 7750, 5, 4241, 18, 4, 8497, 2, 250, 11, 1818, 7561, 4, 4217, 5408, 747, 1115, 372, 1890, 1006, 541, 9303, 7, 4, 59, 2, 4, 3586, 2]),\n",
       "       list([1, 1446, 7079, 69, 72, 3305, 13, 610, 930, 8, 12, 582, 23, 5, 16, 484, 685, 54, 349, 11, 4120, 2959, 45, 58, 1466, 13, 197, 12, 16, 43, 23, 2, 5, 62, 30, 145, 402, 11, 4131, 51, 575, 32, 61, 369, 71, 66, 770, 12, 1054, 75, 100, 2198, 8, 4, 105, 37, 69, 147, 712, 75, 3543, 44, 257, 390, 5, 69, 263, 514, 105, 50, 286, 1814, 23, 4, 123, 13, 161, 40, 5, 421, 4, 116, 16, 897, 13, 2, 40, 319, 5872, 112, 6700, 11, 4803, 121, 25, 70, 3468, 4, 719, 3798, 13, 18, 31, 62, 40, 8, 7200, 4, 2, 7, 14, 123, 5, 942, 25, 8, 721, 12, 145, 5, 202, 12, 160, 580, 202, 12, 6, 52, 58, 2, 92, 401, 728, 12, 39, 14, 251, 8, 15, 251, 5, 2, 12, 38, 84, 80, 124, 12, 9, 23]),\n",
       "       list([1, 17, 6, 194, 337, 7, 4, 204, 22, 45, 254, 8, 106, 14, 123, 4, 2, 270, 2, 5, 2, 2, 732, 2098, 101, 405, 39, 14, 1034, 4, 1310, 9, 115, 50, 305, 12, 47, 4, 168, 5, 235, 7, 38, 111, 699, 102, 7, 4, 4039, 9245, 9, 24, 6, 78, 1099, 17, 2345, 2, 21, 27, 9685, 6139, 5, 2, 1603, 92, 1183, 4, 1310, 7, 4, 204, 42, 97, 90, 35, 221, 109, 29, 127, 27, 118, 8, 97, 12, 157, 21, 6789, 2, 9, 6, 66, 78, 1099, 4, 631, 1191, 5, 2642, 272, 191, 1070, 6, 7585, 8, 2197, 2, 2, 544, 5, 383, 1271, 848, 1468, 2, 497, 2, 8, 1597, 8778, 2, 21, 60, 27, 239, 9, 43, 8368, 209, 405, 10, 10, 12, 764, 40, 4, 248, 20, 12, 16, 5, 174, 1791, 72, 7, 51, 6, 1739, 22, 4, 204, 131, 9])],\n",
       "      dtype=object)"
      ]
     },
     "execution_count": 3,
     "metadata": {},
     "output_type": "execute_result"
    }
   ],
   "source": [
    "train_data"
   ]
  },
  {
   "cell_type": "code",
   "execution_count": 4,
   "metadata": {},
   "outputs": [
    {
     "data": {
      "text/plain": [
       "((25000,), (25000,))"
      ]
     },
     "execution_count": 4,
     "metadata": {},
     "output_type": "execute_result"
    }
   ],
   "source": [
    "train_data.shape, train_labels.shape"
   ]
  },
  {
   "cell_type": "code",
   "execution_count": 5,
   "metadata": {},
   "outputs": [
    {
     "data": {
      "text/plain": [
       "((25000,), (25000,))"
      ]
     },
     "execution_count": 5,
     "metadata": {},
     "output_type": "execute_result"
    }
   ],
   "source": [
    "test_data.shape, test_labels.shape"
   ]
  },
  {
   "cell_type": "code",
   "execution_count": 6,
   "metadata": {},
   "outputs": [
    {
     "data": {
      "text/plain": [
       "([1,\n",
       "  14,\n",
       "  22,\n",
       "  16,\n",
       "  43,\n",
       "  530,\n",
       "  973,\n",
       "  1622,\n",
       "  1385,\n",
       "  65,\n",
       "  458,\n",
       "  4468,\n",
       "  66,\n",
       "  3941,\n",
       "  4,\n",
       "  173,\n",
       "  36,\n",
       "  256,\n",
       "  5,\n",
       "  25,\n",
       "  100,\n",
       "  43,\n",
       "  838,\n",
       "  112,\n",
       "  50,\n",
       "  670,\n",
       "  2,\n",
       "  9,\n",
       "  35,\n",
       "  480,\n",
       "  284,\n",
       "  5,\n",
       "  150,\n",
       "  4,\n",
       "  172,\n",
       "  112,\n",
       "  167,\n",
       "  2,\n",
       "  336,\n",
       "  385,\n",
       "  39,\n",
       "  4,\n",
       "  172,\n",
       "  4536,\n",
       "  1111,\n",
       "  17,\n",
       "  546,\n",
       "  38,\n",
       "  13,\n",
       "  447,\n",
       "  4,\n",
       "  192,\n",
       "  50,\n",
       "  16,\n",
       "  6,\n",
       "  147,\n",
       "  2025,\n",
       "  19,\n",
       "  14,\n",
       "  22,\n",
       "  4,\n",
       "  1920,\n",
       "  4613,\n",
       "  469,\n",
       "  4,\n",
       "  22,\n",
       "  71,\n",
       "  87,\n",
       "  12,\n",
       "  16,\n",
       "  43,\n",
       "  530,\n",
       "  38,\n",
       "  76,\n",
       "  15,\n",
       "  13,\n",
       "  1247,\n",
       "  4,\n",
       "  22,\n",
       "  17,\n",
       "  515,\n",
       "  17,\n",
       "  12,\n",
       "  16,\n",
       "  626,\n",
       "  18,\n",
       "  2,\n",
       "  5,\n",
       "  62,\n",
       "  386,\n",
       "  12,\n",
       "  8,\n",
       "  316,\n",
       "  8,\n",
       "  106,\n",
       "  5,\n",
       "  4,\n",
       "  2223,\n",
       "  5244,\n",
       "  16,\n",
       "  480,\n",
       "  66,\n",
       "  3785,\n",
       "  33,\n",
       "  4,\n",
       "  130,\n",
       "  12,\n",
       "  16,\n",
       "  38,\n",
       "  619,\n",
       "  5,\n",
       "  25,\n",
       "  124,\n",
       "  51,\n",
       "  36,\n",
       "  135,\n",
       "  48,\n",
       "  25,\n",
       "  1415,\n",
       "  33,\n",
       "  6,\n",
       "  22,\n",
       "  12,\n",
       "  215,\n",
       "  28,\n",
       "  77,\n",
       "  52,\n",
       "  5,\n",
       "  14,\n",
       "  407,\n",
       "  16,\n",
       "  82,\n",
       "  2,\n",
       "  8,\n",
       "  4,\n",
       "  107,\n",
       "  117,\n",
       "  5952,\n",
       "  15,\n",
       "  256,\n",
       "  4,\n",
       "  2,\n",
       "  7,\n",
       "  3766,\n",
       "  5,\n",
       "  723,\n",
       "  36,\n",
       "  71,\n",
       "  43,\n",
       "  530,\n",
       "  476,\n",
       "  26,\n",
       "  400,\n",
       "  317,\n",
       "  46,\n",
       "  7,\n",
       "  4,\n",
       "  2,\n",
       "  1029,\n",
       "  13,\n",
       "  104,\n",
       "  88,\n",
       "  4,\n",
       "  381,\n",
       "  15,\n",
       "  297,\n",
       "  98,\n",
       "  32,\n",
       "  2071,\n",
       "  56,\n",
       "  26,\n",
       "  141,\n",
       "  6,\n",
       "  194,\n",
       "  7486,\n",
       "  18,\n",
       "  4,\n",
       "  226,\n",
       "  22,\n",
       "  21,\n",
       "  134,\n",
       "  476,\n",
       "  26,\n",
       "  480,\n",
       "  5,\n",
       "  144,\n",
       "  30,\n",
       "  5535,\n",
       "  18,\n",
       "  51,\n",
       "  36,\n",
       "  28,\n",
       "  224,\n",
       "  92,\n",
       "  25,\n",
       "  104,\n",
       "  4,\n",
       "  226,\n",
       "  65,\n",
       "  16,\n",
       "  38,\n",
       "  1334,\n",
       "  88,\n",
       "  12,\n",
       "  16,\n",
       "  283,\n",
       "  5,\n",
       "  16,\n",
       "  4472,\n",
       "  113,\n",
       "  103,\n",
       "  32,\n",
       "  15,\n",
       "  16,\n",
       "  5345,\n",
       "  19,\n",
       "  178,\n",
       "  32],\n",
       " 1)"
      ]
     },
     "execution_count": 6,
     "metadata": {},
     "output_type": "execute_result"
    }
   ],
   "source": [
    "train_data[0], train_labels[0]"
   ]
  },
  {
   "cell_type": "code",
   "execution_count": 7,
   "metadata": {},
   "outputs": [
    {
     "data": {
      "text/plain": [
       "(218, 189)"
      ]
     },
     "execution_count": 7,
     "metadata": {},
     "output_type": "execute_result"
    }
   ],
   "source": [
    "len(train_data[0]), len(train_data[1])"
   ]
  },
  {
   "cell_type": "code",
   "execution_count": 8,
   "metadata": {},
   "outputs": [],
   "source": [
    "def vectorize_sequences(sequences, dimension=10000):\n",
    "    results = np.zeros((len(sequences), dimension)) #macierz zer o kształcie...\n",
    "    for i, sequence in enumerate(sequences):\n",
    "        results[i, sequence] = 1  #umieszczanie 1 pod wybranymi indeksami\n",
    "    return results"
   ]
  },
  {
   "cell_type": "code",
   "execution_count": 9,
   "metadata": {},
   "outputs": [],
   "source": [
    "x_train = vectorize_sequences(train_data)\n",
    "x_test = vectorize_sequences(test_data)"
   ]
  },
  {
   "cell_type": "code",
   "execution_count": 10,
   "metadata": {},
   "outputs": [
    {
     "data": {
      "text/plain": [
       "array([0., 1., 1., ..., 0., 0., 0.])"
      ]
     },
     "execution_count": 10,
     "metadata": {},
     "output_type": "execute_result"
    }
   ],
   "source": [
    "x_train[0]"
   ]
  },
  {
   "cell_type": "code",
   "execution_count": 11,
   "metadata": {},
   "outputs": [
    {
     "data": {
      "text/plain": [
       "array([0., 1., 1., ..., 0., 0., 0.])"
      ]
     },
     "execution_count": 11,
     "metadata": {},
     "output_type": "execute_result"
    }
   ],
   "source": [
    "x_test[0]"
   ]
  },
  {
   "cell_type": "code",
   "execution_count": 12,
   "metadata": {},
   "outputs": [
    {
     "data": {
      "text/plain": [
       "(1, 0)"
      ]
     },
     "execution_count": 12,
     "metadata": {},
     "output_type": "execute_result"
    }
   ],
   "source": [
    "train_labels[0], test_labels[0]"
   ]
  },
  {
   "cell_type": "code",
   "execution_count": 13,
   "metadata": {},
   "outputs": [],
   "source": [
    "y_train = np.asarray(train_labels).astype('float32')\n",
    "y_test = np.asarray(test_labels).astype('float32')"
   ]
  },
  {
   "cell_type": "code",
   "execution_count": 14,
   "metadata": {},
   "outputs": [],
   "source": [
    "x_val = x_train[:10000]\n",
    "y_val = y_train[:10000]\n",
    "\n",
    "partial_x_train = x_train[10000:]\n",
    "partial_y_train = y_train[10000:]"
   ]
  },
  {
   "cell_type": "code",
   "execution_count": 36,
   "metadata": {},
   "outputs": [
    {
     "name": "stdout",
     "output_type": "stream",
     "text": [
      "Epoch 1/20\n",
      "30/30 [==============================] - 2s 43ms/step - loss: 0.5037 - accuracy: 0.7983 - val_loss: 0.3795 - val_accuracy: 0.8757\n",
      "Epoch 2/20\n",
      "30/30 [==============================] - 1s 26ms/step - loss: 0.3022 - accuracy: 0.9045 - val_loss: 0.3244 - val_accuracy: 0.8719\n",
      "Epoch 3/20\n",
      "30/30 [==============================] - 1s 28ms/step - loss: 0.2232 - accuracy: 0.9287 - val_loss: 0.2779 - val_accuracy: 0.8918\n",
      "Epoch 4/20\n",
      "30/30 [==============================] - 1s 29ms/step - loss: 0.1751 - accuracy: 0.9455 - val_loss: 0.3463 - val_accuracy: 0.8618\n",
      "Epoch 5/20\n",
      "30/30 [==============================] - 1s 29ms/step - loss: 0.1432 - accuracy: 0.9551 - val_loss: 0.2914 - val_accuracy: 0.8863\n",
      "Epoch 6/20\n",
      "30/30 [==============================] - 1s 30ms/step - loss: 0.1167 - accuracy: 0.9646 - val_loss: 0.2918 - val_accuracy: 0.8871\n",
      "Epoch 7/20\n",
      "30/30 [==============================] - 1s 31ms/step - loss: 0.0997 - accuracy: 0.9701 - val_loss: 0.3068 - val_accuracy: 0.8859\n",
      "Epoch 8/20\n",
      "30/30 [==============================] - 1s 31ms/step - loss: 0.0775 - accuracy: 0.9803 - val_loss: 0.3293 - val_accuracy: 0.8841\n",
      "Epoch 9/20\n",
      "30/30 [==============================] - 1s 31ms/step - loss: 0.0652 - accuracy: 0.9825 - val_loss: 0.3595 - val_accuracy: 0.8752\n",
      "Epoch 10/20\n",
      "30/30 [==============================] - 1s 31ms/step - loss: 0.0545 - accuracy: 0.9865 - val_loss: 0.3802 - val_accuracy: 0.8750\n",
      "Epoch 11/20\n",
      "30/30 [==============================] - 1s 29ms/step - loss: 0.0434 - accuracy: 0.9906 - val_loss: 0.4011 - val_accuracy: 0.8780\n",
      "Epoch 12/20\n",
      "30/30 [==============================] - 1s 27ms/step - loss: 0.0316 - accuracy: 0.9942 - val_loss: 0.4415 - val_accuracy: 0.8755\n",
      "Epoch 13/20\n",
      "30/30 [==============================] - 1s 27ms/step - loss: 0.0280 - accuracy: 0.9954 - val_loss: 0.4764 - val_accuracy: 0.8735\n",
      "Epoch 14/20\n",
      "30/30 [==============================] - 1s 30ms/step - loss: 0.0212 - accuracy: 0.9965 - val_loss: 0.5069 - val_accuracy: 0.8738\n",
      "Epoch 15/20\n",
      "30/30 [==============================] - 1s 29ms/step - loss: 0.0192 - accuracy: 0.9965 - val_loss: 0.5294 - val_accuracy: 0.8741\n",
      "Epoch 16/20\n",
      "30/30 [==============================] - 1s 32ms/step - loss: 0.0118 - accuracy: 0.9991 - val_loss: 0.5474 - val_accuracy: 0.8719\n",
      "Epoch 17/20\n",
      "30/30 [==============================] - 1s 32ms/step - loss: 0.0100 - accuracy: 0.9989 - val_loss: 0.5869 - val_accuracy: 0.8693\n",
      "Epoch 18/20\n",
      "30/30 [==============================] - 1s 32ms/step - loss: 0.0110 - accuracy: 0.9977 - val_loss: 0.6140 - val_accuracy: 0.8699\n",
      "Epoch 19/20\n",
      "30/30 [==============================] - 1s 33ms/step - loss: 0.0042 - accuracy: 0.9999 - val_loss: 0.6452 - val_accuracy: 0.8673\n",
      "Epoch 20/20\n",
      "30/30 [==============================] - 1s 32ms/step - loss: 0.0074 - accuracy: 0.9982 - val_loss: 0.6792 - val_accuracy: 0.8691\n"
     ]
    }
   ],
   "source": [
    "model = tf.keras.Sequential([\n",
    "    tf.keras.layers.Dense(16, activation='relu', input_shape=(10000,)),\n",
    "    tf.keras.layers.Dense(16, activation='relu'),\n",
    "    tf.keras.layers.Dense(1, activation='sigmoid')\n",
    "])\n",
    "\n",
    "model.compile(loss='BinaryCrossentropy', optimizer=tf.keras.optimizers.RMSprop(), metrics='accuracy')\n",
    "\n",
    "history = model.fit(partial_x_train, partial_y_train, epochs=20, batch_size=512,\n",
    "         validation_data = (x_val, y_val))"
   ]
  },
  {
   "cell_type": "code",
   "execution_count": 44,
   "metadata": {},
   "outputs": [
    {
     "data": {
      "text/plain": [
       "<AxesSubplot:>"
      ]
     },
     "execution_count": 44,
     "metadata": {},
     "output_type": "execute_result"
    },
    {
     "data": {
      "image/png": "[encoded data removed]",
      "text/plain": [
       "<Figure size 432x288 with 1 Axes>"
      ]
     },
     "metadata": {
      "needs_background": "light"
     },
     "output_type": "display_data"
    }
   ],
   "source": [
    "pd.DataFrame(history.history).plot() #nadmierne dopasowanie podczas trenowania po 4 epoce"
   ]
  },
  {
   "cell_type": "code",
   "execution_count": 49,
   "metadata": {},
   "outputs": [
    {
     "name": "stdout",
     "output_type": "stream",
     "text": [
      "782/782 [==============================] - 3s 4ms/step - loss: 0.7439 - accuracy: 0.8521\n"
     ]
    },
    {
     "data": {
      "text/plain": [
       "[0.7438557744026184, 0.8520799875259399]"
      ]
     },
     "execution_count": 49,
     "metadata": {},
     "output_type": "execute_result"
    }
   ],
   "source": [
    "model.evaluate(x_test, y_test)"
   ]
  },
  {
   "cell_type": "code",
   "execution_count": 46,
   "metadata": {},
   "outputs": [
    {
     "name": "stdout",
     "output_type": "stream",
     "text": [
      "Epoch 1/4\n",
      "49/49 [==============================] - 2s 18ms/step - loss: 0.4614 - accuracy: 0.8179\n",
      "Epoch 2/4\n",
      "49/49 [==============================] - 1s 18ms/step - loss: 0.2631 - accuracy: 0.9074\n",
      "Epoch 3/4\n",
      "49/49 [==============================] - 1s 18ms/step - loss: 0.2042 - accuracy: 0.9267\n",
      "Epoch 4/4\n",
      "49/49 [==============================] - 1s 17ms/step - loss: 0.1677 - accuracy: 0.9418\n"
     ]
    },
    {
     "data": {
      "text/plain": [
       "<keras.callbacks.History at 0x1c61ea61b50>"
      ]
     },
     "execution_count": 46,
     "metadata": {},
     "output_type": "execute_result"
    }
   ],
   "source": [
    "model2 = tf.keras.Sequential([\n",
    "    tf.keras.layers.Dense(16, activation='relu', input_shape=(10000,)),\n",
    "    tf.keras.layers.Dense(16, activation='relu'),\n",
    "    tf.keras.layers.Dense(1, activation='sigmoid')\n",
    "])\n",
    "\n",
    "model2.compile(loss='BinaryCrossentropy', optimizer=tf.keras.optimizers.RMSprop(), metrics='accuracy')\n",
    "\n",
    "model2.fit(x_train, y_train, epochs=4, batch_size=512)"
   ]
  },
  {
   "cell_type": "code",
   "execution_count": 47,
   "metadata": {},
   "outputs": [
    {
     "name": "stdout",
     "output_type": "stream",
     "text": [
      "782/782 [==============================] - 3s 3ms/step - loss: 0.2927 - accuracy: 0.8842\n"
     ]
    },
    {
     "data": {
      "text/plain": [
       "[0.2926614582538605, 0.8841999769210815]"
      ]
     },
     "execution_count": 47,
     "metadata": {},
     "output_type": "execute_result"
    }
   ],
   "source": [
    "model2.evaluate(x_test, y_test)"
   ]
  },
  {
   "cell_type": "code",
   "execution_count": 50,
   "metadata": {},
   "outputs": [
    {
     "name": "stdout",
     "output_type": "stream",
     "text": [
      "782/782 [==============================] - 2s 3ms/step\n"
     ]
    },
    {
     "data": {
      "text/plain": [
       "array([[0.00890367],\n",
       "       [1.        ],\n",
       "       [0.9921257 ],\n",
       "       ...,\n",
       "       [0.00249801],\n",
       "       [0.03417153],\n",
       "       [0.6379243 ]], dtype=float32)"
      ]
     },
     "execution_count": 50,
     "metadata": {},
     "output_type": "execute_result"
    }
   ],
   "source": [
    "model.predict(x_test)"
   ]
  },
  {
   "cell_type": "code",
   "execution_count": 51,
   "metadata": {},
   "outputs": [
    {
     "name": "stdout",
     "output_type": "stream",
     "text": [
      "782/782 [==============================] - 3s 3ms/step\n"
     ]
    },
    {
     "data": {
      "text/plain": [
       "array([[0.18782023],\n",
       "       [0.9999281 ],\n",
       "       [0.7521466 ],\n",
       "       ...,\n",
       "       [0.12649997],\n",
       "       [0.07918593],\n",
       "       [0.4989755 ]], dtype=float32)"
      ]
     },
     "execution_count": 51,
     "metadata": {},
     "output_type": "execute_result"
    }
   ],
   "source": [
    "model2.predict(x_test)"
   ]
  },
  {
   "cell_type": "code",
   "execution_count": 54,
   "metadata": {},
   "outputs": [
    {
     "name": "stdout",
     "output_type": "stream",
     "text": [
      "Epoch 1/10\n",
      "30/30 [==============================] - 2s 50ms/step - loss: 0.4957 - accuracy: 0.7823 - val_loss: 0.3625 - val_accuracy: 0.8674\n",
      "Epoch 2/10\n",
      "30/30 [==============================] - 1s 32ms/step - loss: 0.2783 - accuracy: 0.9070 - val_loss: 0.2914 - val_accuracy: 0.8889\n",
      "Epoch 3/10\n",
      "30/30 [==============================] - 1s 30ms/step - loss: 0.1987 - accuracy: 0.9334 - val_loss: 0.3165 - val_accuracy: 0.8711\n",
      "Epoch 4/10\n",
      "30/30 [==============================] - 1s 31ms/step - loss: 0.1596 - accuracy: 0.9465 - val_loss: 0.2835 - val_accuracy: 0.8861\n",
      "Epoch 5/10\n",
      "30/30 [==============================] - 1s 31ms/step - loss: 0.1233 - accuracy: 0.9600 - val_loss: 0.2965 - val_accuracy: 0.8837\n",
      "Epoch 6/10\n",
      "30/30 [==============================] - 1s 30ms/step - loss: 0.1018 - accuracy: 0.9670 - val_loss: 0.3200 - val_accuracy: 0.8837\n",
      "Epoch 7/10\n",
      "30/30 [==============================] - 1s 31ms/step - loss: 0.0851 - accuracy: 0.9722 - val_loss: 0.3586 - val_accuracy: 0.8756\n",
      "Epoch 8/10\n",
      "30/30 [==============================] - 1s 31ms/step - loss: 0.0668 - accuracy: 0.9803 - val_loss: 0.3733 - val_accuracy: 0.8753\n",
      "Epoch 9/10\n",
      "30/30 [==============================] - 1s 33ms/step - loss: 0.0536 - accuracy: 0.9839 - val_loss: 0.3992 - val_accuracy: 0.8768\n",
      "Epoch 10/10\n",
      "30/30 [==============================] - 1s 32ms/step - loss: 0.0410 - accuracy: 0.9888 - val_loss: 0.4533 - val_accuracy: 0.8675\n"
     ]
    }
   ],
   "source": [
    "model3 = tf.keras.Sequential([\n",
    "    tf.keras.layers.Dense(32, activation='relu', input_shape=(10000,)),\n",
    "    tf.keras.layers.Dense(32, activation='relu'),\n",
    "    tf.keras.layers.Dense(1, activation='sigmoid')\n",
    "])\n",
    "\n",
    "model3.compile(loss='BinaryCrossentropy', optimizer=tf.keras.optimizers.RMSprop(), metrics='accuracy')\n",
    "\n",
    "history3 = model3.fit(partial_x_train, partial_y_train, epochs=10, batch_size=512,\n",
    "         validation_data = (x_val, y_val))"
   ]
  },
  {
   "cell_type": "code",
   "execution_count": 55,
   "metadata": {},
   "outputs": [
    {
     "data": {
      "text/plain": [
       "<AxesSubplot:>"
      ]
     },
     "execution_count": 55,
     "metadata": {},
     "output_type": "execute_result"
    },
    {
     "data": {
      "image/png": "[encoded data removed]",
      "text/plain": [
       "<Figure size 432x288 with 1 Axes>"
      ]
     },
     "metadata": {
      "needs_background": "light"
     },
     "output_type": "display_data"
    }
   ],
   "source": [
    "pd.DataFrame(history3.history).plot()"
   ]
  },
  {
   "cell_type": "code",
   "execution_count": 70,
   "metadata": {},
   "outputs": [
    {
     "name": "stdout",
     "output_type": "stream",
     "text": [
      "Epoch 1/10\n",
      "30/30 [==============================] - 3s 53ms/step - loss: 0.5038 - accuracy: 0.7553 - val_loss: 0.3780 - val_accuracy: 0.8430\n",
      "Epoch 2/10\n",
      "30/30 [==============================] - 1s 33ms/step - loss: 0.2697 - accuracy: 0.9025 - val_loss: 0.2827 - val_accuracy: 0.8903\n",
      "Epoch 3/10\n",
      "30/30 [==============================] - 1s 30ms/step - loss: 0.1936 - accuracy: 0.9300 - val_loss: 0.2812 - val_accuracy: 0.8874\n",
      "Epoch 4/10\n",
      "30/30 [==============================] - 1s 31ms/step - loss: 0.1533 - accuracy: 0.9443 - val_loss: 0.2975 - val_accuracy: 0.8847\n",
      "Epoch 5/10\n",
      "30/30 [==============================] - 1s 37ms/step - loss: 0.1143 - accuracy: 0.9600 - val_loss: 0.3178 - val_accuracy: 0.8826\n",
      "Epoch 6/10\n",
      "30/30 [==============================] - 1s 32ms/step - loss: 0.0912 - accuracy: 0.9705 - val_loss: 0.3722 - val_accuracy: 0.8766\n",
      "Epoch 7/10\n",
      "30/30 [==============================] - 1s 32ms/step - loss: 0.0754 - accuracy: 0.9767 - val_loss: 0.3762 - val_accuracy: 0.8812\n",
      "Epoch 8/10\n",
      "30/30 [==============================] - 1s 32ms/step - loss: 0.0615 - accuracy: 0.9815 - val_loss: 0.4148 - val_accuracy: 0.8777\n",
      "Epoch 9/10\n",
      "30/30 [==============================] - 1s 32ms/step - loss: 0.0221 - accuracy: 0.9960 - val_loss: 0.5599 - val_accuracy: 0.8581\n",
      "Epoch 10/10\n",
      "30/30 [==============================] - 1s 33ms/step - loss: 0.0525 - accuracy: 0.9837 - val_loss: 0.4899 - val_accuracy: 0.8741\n"
     ]
    }
   ],
   "source": [
    "model4 = tf.keras.Sequential([\n",
    "    tf.keras.layers.Dense(32, activation='relu', input_shape=(10000,)),\n",
    "    tf.keras.layers.Dense(32, activation='relu'),\n",
    "    tf.keras.layers.Dense(32, activation='relu'),\n",
    "    tf.keras.layers.Dense(1, activation='sigmoid')\n",
    "])\n",
    "\n",
    "model4.compile(loss='BinaryCrossentropy', optimizer=tf.keras.optimizers.RMSprop(), metrics='accuracy')\n",
    "\n",
    "history4 = model4.fit(partial_x_train, partial_y_train, epochs=10, batch_size=512,\n",
    "         validation_data = (x_val, y_val))"
   ]
  },
  {
   "cell_type": "code",
   "execution_count": 71,
   "metadata": {},
   "outputs": [
    {
     "data": {
      "text/plain": [
       "<AxesSubplot:>"
      ]
     },
     "execution_count": 71,
     "metadata": {},
     "output_type": "execute_result"
    },
    {
     "data": {
      "image/png": "[encoded data removed]",
      "text/plain": [
       "<Figure size 432x288 with 1 Axes>"
      ]
     },
     "metadata": {
      "needs_background": "light"
     },
     "output_type": "display_data"
    }
   ],
   "source": [
    "pd.DataFrame(history4.history).plot()"
   ]
  },
  {
   "cell_type": "code",
   "execution_count": 72,
   "metadata": {},
   "outputs": [
    {
     "name": "stdout",
     "output_type": "stream",
     "text": [
      "782/782 [==============================] - 4s 5ms/step - loss: 0.5393 - accuracy: 0.8612\n"
     ]
    },
    {
     "data": {
      "text/plain": [
       "[0.5393424034118652, 0.861240029335022]"
      ]
     },
     "execution_count": 72,
     "metadata": {},
     "output_type": "execute_result"
    }
   ],
   "source": [
    "model4.evaluate(x_test, y_test)"
   ]
  },
  {
   "cell_type": "code",
   "execution_count": 73,
   "metadata": {},
   "outputs": [
    {
     "name": "stdout",
     "output_type": "stream",
     "text": [
      "Epoch 1/10\n",
      "30/30 [==============================] - 3s 57ms/step - loss: 0.1654 - accuracy: 0.7813 - val_loss: 0.1225 - val_accuracy: 0.8444\n",
      "Epoch 2/10\n",
      "30/30 [==============================] - 1s 33ms/step - loss: 0.0797 - accuracy: 0.9063 - val_loss: 0.0854 - val_accuracy: 0.8903\n",
      "Epoch 3/10\n",
      "30/30 [==============================] - 1s 30ms/step - loss: 0.0568 - accuracy: 0.9329 - val_loss: 0.0818 - val_accuracy: 0.8897\n",
      "Epoch 4/10\n",
      "30/30 [==============================] - 1s 30ms/step - loss: 0.0434 - accuracy: 0.9507 - val_loss: 0.1101 - val_accuracy: 0.8506\n",
      "Epoch 5/10\n",
      "30/30 [==============================] - 1s 30ms/step - loss: 0.0354 - accuracy: 0.9584 - val_loss: 0.0847 - val_accuracy: 0.8867\n",
      "Epoch 6/10\n",
      "30/30 [==============================] - 1s 32ms/step - loss: 0.0272 - accuracy: 0.9699 - val_loss: 0.0878 - val_accuracy: 0.8835\n",
      "Epoch 7/10\n",
      "30/30 [==============================] - 1s 33ms/step - loss: 0.0219 - accuracy: 0.9753 - val_loss: 0.0994 - val_accuracy: 0.8716\n",
      "Epoch 8/10\n",
      "30/30 [==============================] - 1s 32ms/step - loss: 0.0167 - accuracy: 0.9827 - val_loss: 0.0975 - val_accuracy: 0.8771\n",
      "Epoch 9/10\n",
      "30/30 [==============================] - 1s 32ms/step - loss: 0.0145 - accuracy: 0.9841 - val_loss: 0.0985 - val_accuracy: 0.8752\n",
      "Epoch 10/10\n",
      "30/30 [==============================] - 1s 31ms/step - loss: 0.0134 - accuracy: 0.9853 - val_loss: 0.1003 - val_accuracy: 0.8764\n"
     ]
    }
   ],
   "source": [
    "model5 = tf.keras.Sequential([\n",
    "    tf.keras.layers.Dense(32, activation='relu', input_shape=(10000,)),\n",
    "    tf.keras.layers.Dense(32, activation='relu'),\n",
    "    tf.keras.layers.Dense(32, activation='relu'),\n",
    "    tf.keras.layers.Dense(1, activation='sigmoid')\n",
    "])\n",
    "\n",
    "model5.compile(loss='MSE', optimizer=tf.keras.optimizers.RMSprop(), metrics='accuracy')\n",
    "\n",
    "history5 = model5.fit(partial_x_train, partial_y_train, epochs=10, batch_size=512,\n",
    "         validation_data = (x_val, y_val))"
   ]
  },
  {
   "cell_type": "code",
   "execution_count": 74,
   "metadata": {},
   "outputs": [
    {
     "data": {
      "text/plain": [
       "<AxesSubplot:>"
      ]
     },
     "execution_count": 74,
     "metadata": {},
     "output_type": "execute_result"
    },
    {
     "data": {
      "image/png": "[encoded data removed]",
      "text/plain": [
       "<Figure size 432x288 with 1 Axes>"
      ]
     },
     "metadata": {
      "needs_background": "light"
     },
     "output_type": "display_data"
    }
   ],
   "source": [
    "pd.DataFrame(history5.history).plot()"
   ]
  },
  {
   "cell_type": "code",
   "execution_count": 76,
   "metadata": {},
   "outputs": [
    {
     "name": "stdout",
     "output_type": "stream",
     "text": [
      "Epoch 1/10\n",
      "30/30 [==============================] - 3s 48ms/step - loss: 0.1780 - accuracy: 0.7825 - val_loss: 0.1276 - val_accuracy: 0.8497\n",
      "Epoch 2/10\n",
      "30/30 [==============================] - 1s 29ms/step - loss: 0.0923 - accuracy: 0.8985 - val_loss: 0.0932 - val_accuracy: 0.8856\n",
      "Epoch 3/10\n",
      "30/30 [==============================] - 1s 26ms/step - loss: 0.0652 - accuracy: 0.9267 - val_loss: 0.0860 - val_accuracy: 0.8875\n",
      "Epoch 4/10\n",
      "30/30 [==============================] - 1s 25ms/step - loss: 0.0483 - accuracy: 0.9476 - val_loss: 0.0909 - val_accuracy: 0.8759\n",
      "Epoch 5/10\n",
      "30/30 [==============================] - 1s 27ms/step - loss: 0.0394 - accuracy: 0.9557 - val_loss: 0.0847 - val_accuracy: 0.8829\n",
      "Epoch 6/10\n",
      "30/30 [==============================] - 1s 26ms/step - loss: 0.0302 - accuracy: 0.9691 - val_loss: 0.0862 - val_accuracy: 0.8857\n",
      "Epoch 7/10\n",
      "30/30 [==============================] - 1s 28ms/step - loss: 0.0254 - accuracy: 0.9737 - val_loss: 0.0880 - val_accuracy: 0.8835\n",
      "Epoch 8/10\n",
      "30/30 [==============================] - 1s 27ms/step - loss: 0.0186 - accuracy: 0.9834 - val_loss: 0.0902 - val_accuracy: 0.8784\n",
      "Epoch 9/10\n",
      "30/30 [==============================] - 1s 26ms/step - loss: 0.0164 - accuracy: 0.9838 - val_loss: 0.0960 - val_accuracy: 0.8776\n",
      "Epoch 10/10\n",
      "30/30 [==============================] - 1s 24ms/step - loss: 0.0132 - accuracy: 0.9873 - val_loss: 0.0947 - val_accuracy: 0.8769\n"
     ]
    }
   ],
   "source": [
    "model6 = tf.keras.Sequential([\n",
    "    tf.keras.layers.Dense(16, activation='relu', input_shape=(10000,)),\n",
    "    tf.keras.layers.Dense(16, activation='relu'),\n",
    "    tf.keras.layers.Dense(16, activation='relu'),\n",
    "    tf.keras.layers.Dense(1, activation='sigmoid')\n",
    "])\n",
    "\n",
    "model6.compile(loss='MSE', optimizer=tf.keras.optimizers.RMSprop(), metrics='accuracy')\n",
    "\n",
    "history6 = model6.fit(partial_x_train, partial_y_train, epochs=10, batch_size=512,\n",
    "         validation_data = (x_val, y_val))"
   ]
  },
  {
   "cell_type": "code",
   "execution_count": 77,
   "metadata": {},
   "outputs": [
    {
     "name": "stdout",
     "output_type": "stream",
     "text": [
      "782/782 [==============================] - 3s 4ms/step - loss: 0.1047 - accuracy: 0.8649\n"
     ]
    },
    {
     "data": {
      "text/plain": [
       "[0.10470522195100784, 0.8648800253868103]"
      ]
     },
     "execution_count": 77,
     "metadata": {},
     "output_type": "execute_result"
    }
   ],
   "source": [
    "model6.evaluate(x_test, y_test)"
   ]
  },
  {
   "cell_type": "code",
   "execution_count": 79,
   "metadata": {},
   "outputs": [
    {
     "name": "stdout",
     "output_type": "stream",
     "text": [
      "Epoch 1/10\n",
      "30/30 [==============================] - 4s 72ms/step - loss: 0.1703 - accuracy: 0.7456 - val_loss: 0.0989 - val_accuracy: 0.8772\n",
      "Epoch 2/10\n",
      "30/30 [==============================] - 1s 44ms/step - loss: 0.0775 - accuracy: 0.9029 - val_loss: 0.0840 - val_accuracy: 0.8874\n",
      "Epoch 3/10\n",
      "30/30 [==============================] - 1s 44ms/step - loss: 0.0536 - accuracy: 0.9325 - val_loss: 0.1239 - val_accuracy: 0.8367\n",
      "Epoch 4/10\n",
      "30/30 [==============================] - 1s 43ms/step - loss: 0.0380 - accuracy: 0.9545 - val_loss: 0.0957 - val_accuracy: 0.8741\n",
      "Epoch 5/10\n",
      "30/30 [==============================] - 1s 43ms/step - loss: 0.0307 - accuracy: 0.9629 - val_loss: 0.0904 - val_accuracy: 0.8811\n",
      "Epoch 6/10\n",
      "30/30 [==============================] - 1s 47ms/step - loss: 0.0203 - accuracy: 0.9765 - val_loss: 0.0903 - val_accuracy: 0.8834\n",
      "Epoch 7/10\n",
      "30/30 [==============================] - 1s 45ms/step - loss: 0.0183 - accuracy: 0.9783 - val_loss: 0.0933 - val_accuracy: 0.8801\n",
      "Epoch 8/10\n",
      "30/30 [==============================] - 1s 45ms/step - loss: 0.0155 - accuracy: 0.9811 - val_loss: 0.0952 - val_accuracy: 0.8787\n",
      "Epoch 9/10\n",
      "30/30 [==============================] - 1s 44ms/step - loss: 0.0042 - accuracy: 0.9959 - val_loss: 0.0991 - val_accuracy: 0.8771\n",
      "Epoch 10/10\n",
      "30/30 [==============================] - 1s 42ms/step - loss: 0.0121 - accuracy: 0.9856 - val_loss: 0.0994 - val_accuracy: 0.8785\n"
     ]
    }
   ],
   "source": [
    "model7 = tf.keras.Sequential([\n",
    "    tf.keras.layers.Dense(64, activation='relu', input_shape=(10000,)),\n",
    "    tf.keras.layers.Dense(64, activation='relu'),\n",
    "    tf.keras.layers.Dense(64, activation='relu'),\n",
    "    tf.keras.layers.Dense(1, activation='sigmoid')\n",
    "])\n",
    "\n",
    "model7.compile(loss='MSE', optimizer=tf.keras.optimizers.RMSprop(), metrics='accuracy')\n",
    "\n",
    "history7 = model7.fit(partial_x_train, partial_y_train, epochs=10, batch_size=512,\n",
    "         validation_data = (x_val, y_val))"
   ]
  },
  {
   "cell_type": "code",
   "execution_count": 80,
   "metadata": {},
   "outputs": [
    {
     "name": "stdout",
     "output_type": "stream",
     "text": [
      "782/782 [==============================] - 3s 4ms/step - loss: 0.1089 - accuracy: 0.8661\n"
     ]
    },
    {
     "data": {
      "text/plain": [
       "[0.10893061757087708, 0.8661199808120728]"
      ]
     },
     "execution_count": 80,
     "metadata": {},
     "output_type": "execute_result"
    }
   ],
   "source": [
    "model7.evaluate(x_test, y_test)"
   ]
  },
  {
   "cell_type": "code",
   "execution_count": 81,
   "metadata": {},
   "outputs": [
    {
     "name": "stdout",
     "output_type": "stream",
     "text": [
      "Epoch 1/10\n",
      "30/30 [==============================] - 3s 69ms/step - loss: 0.1554 - accuracy: 0.7725 - val_loss: 0.0971 - val_accuracy: 0.8695\n",
      "Epoch 2/10\n",
      "30/30 [==============================] - 2s 54ms/step - loss: 0.0730 - accuracy: 0.9043 - val_loss: 0.0844 - val_accuracy: 0.8849\n",
      "Epoch 3/10\n",
      "30/30 [==============================] - 1s 46ms/step - loss: 0.0509 - accuracy: 0.9355 - val_loss: 0.0882 - val_accuracy: 0.8825\n",
      "Epoch 4/10\n",
      "30/30 [==============================] - 1s 45ms/step - loss: 0.0409 - accuracy: 0.9481 - val_loss: 0.1008 - val_accuracy: 0.8715\n",
      "Epoch 5/10\n",
      "30/30 [==============================] - 1s 48ms/step - loss: 0.0355 - accuracy: 0.9561 - val_loss: 0.1168 - val_accuracy: 0.8543\n",
      "Epoch 6/10\n",
      "30/30 [==============================] - 1s 44ms/step - loss: 0.0290 - accuracy: 0.9636 - val_loss: 0.1031 - val_accuracy: 0.8748\n",
      "Epoch 7/10\n",
      "30/30 [==============================] - 1s 46ms/step - loss: 0.0248 - accuracy: 0.9699 - val_loss: 0.1169 - val_accuracy: 0.8598\n",
      "Epoch 8/10\n",
      "30/30 [==============================] - 1s 46ms/step - loss: 0.0218 - accuracy: 0.9732 - val_loss: 0.1146 - val_accuracy: 0.8655\n",
      "Epoch 9/10\n",
      "30/30 [==============================] - 1s 46ms/step - loss: 0.0177 - accuracy: 0.9797 - val_loss: 0.1094 - val_accuracy: 0.8732\n",
      "Epoch 10/10\n",
      "30/30 [==============================] - 1s 48ms/step - loss: 0.0161 - accuracy: 0.9817 - val_loss: 0.1132 - val_accuracy: 0.8697\n"
     ]
    }
   ],
   "source": [
    "model8 = tf.keras.Sequential([\n",
    "    tf.keras.layers.Dense(64, activation='tanh', input_shape=(10000,)),\n",
    "    tf.keras.layers.Dense(64, activation='tanh'),\n",
    "    tf.keras.layers.Dense(64, activation='tanh'),\n",
    "    tf.keras.layers.Dense(1, activation='sigmoid')\n",
    "])\n",
    "\n",
    "model8.compile(loss='MSE', optimizer=tf.keras.optimizers.RMSprop(), metrics='accuracy')\n",
    "\n",
    "history8 = model8.fit(partial_x_train, partial_y_train, epochs=10, batch_size=512,\n",
    "         validation_data = (x_val, y_val))"
   ]
  },
  {
   "cell_type": "code",
   "execution_count": 82,
   "metadata": {},
   "outputs": [
    {
     "name": "stdout",
     "output_type": "stream",
     "text": [
      "782/782 [==============================] - 3s 4ms/step - loss: 0.1249 - accuracy: 0.8571\n"
     ]
    },
    {
     "data": {
      "text/plain": [
       "[0.1249479427933693, 0.8571199774742126]"
      ]
     },
     "execution_count": 82,
     "metadata": {},
     "output_type": "execute_result"
    }
   ],
   "source": [
    "model8.evaluate(x_test, y_test)"
   ]
  },
  {
   "cell_type": "code",
   "execution_count": 86,
   "metadata": {},
   "outputs": [
    {
     "name": "stdout",
     "output_type": "stream",
     "text": [
      "Epoch 1/10\n",
      "30/30 [==============================] - 4s 82ms/step - loss: 0.1679 - accuracy: 0.7507 - val_loss: 0.1246 - val_accuracy: 0.8230\n",
      "Epoch 2/10\n",
      "30/30 [==============================] - 2s 62ms/step - loss: 0.0753 - accuracy: 0.9009 - val_loss: 0.0833 - val_accuracy: 0.8855\n",
      "Epoch 3/10\n",
      "30/30 [==============================] - 2s 65ms/step - loss: 0.0520 - accuracy: 0.9319 - val_loss: 0.1397 - val_accuracy: 0.8158\n",
      "Epoch 4/10\n",
      "30/30 [==============================] - 2s 63ms/step - loss: 0.0366 - accuracy: 0.9533 - val_loss: 0.0905 - val_accuracy: 0.8766\n",
      "Epoch 5/10\n",
      "30/30 [==============================] - 2s 63ms/step - loss: 0.0222 - accuracy: 0.9731 - val_loss: 0.0884 - val_accuracy: 0.8849\n",
      "Epoch 6/10\n",
      "30/30 [==============================] - 2s 63ms/step - loss: 0.0111 - accuracy: 0.9870 - val_loss: 0.0966 - val_accuracy: 0.8758\n",
      "Epoch 7/10\n",
      "30/30 [==============================] - 2s 68ms/step - loss: 0.0038 - accuracy: 0.9962 - val_loss: 0.1048 - val_accuracy: 0.8724\n",
      "Epoch 8/10\n",
      "30/30 [==============================] - 2s 64ms/step - loss: 0.0025 - accuracy: 0.9975 - val_loss: 0.0990 - val_accuracy: 0.8809\n",
      "Epoch 9/10\n",
      "30/30 [==============================] - 2s 63ms/step - loss: 0.0191 - accuracy: 0.9780 - val_loss: 0.0979 - val_accuracy: 0.8820\n",
      "Epoch 10/10\n",
      "30/30 [==============================] - 2s 60ms/step - loss: 0.0015 - accuracy: 0.9985 - val_loss: 0.1005 - val_accuracy: 0.8801\n"
     ]
    }
   ],
   "source": [
    "model9 = tf.keras.Sequential([\n",
    "    tf.keras.layers.Dense(128, activation='relu', input_shape=(10000,)),\n",
    "    tf.keras.layers.Dense(128, activation='relu'),\n",
    "    tf.keras.layers.Dense(128, activation='relu'),\n",
    "    tf.keras.layers.Dense(1, activation='sigmoid')\n",
    "])\n",
    "\n",
    "model9.compile(loss='MSE', optimizer=tf.keras.optimizers.RMSprop(), metrics='accuracy')\n",
    "\n",
    "history9 = model9.fit(partial_x_train, partial_y_train, epochs=10, batch_size=512,\n",
    "         validation_data = (x_val, y_val))"
   ]
  },
  {
   "cell_type": "code",
   "execution_count": 87,
   "metadata": {},
   "outputs": [
    {
     "name": "stdout",
     "output_type": "stream",
     "text": [
      "782/782 [==============================] - 2s 2ms/step - loss: 0.1107 - accuracy: 0.8688\n"
     ]
    },
    {
     "data": {
      "text/plain": [
       "[0.11068309843540192, 0.8688399791717529]"
      ]
     },
     "execution_count": 87,
     "metadata": {},
     "output_type": "execute_result"
    }
   ],
   "source": [
    "model9.evaluate(x_test, y_test)"
   ]
  },
  {
   "cell_type": "code",
   "execution_count": 88,
   "metadata": {},
   "outputs": [
    {
     "name": "stdout",
     "output_type": "stream",
     "text": [
      "Epoch 1/5\n",
      "30/30 [==============================] - 2s 47ms/step - loss: 0.1732 - accuracy: 0.7378 - val_loss: 0.1030 - val_accuracy: 0.8663\n",
      "Epoch 2/5\n",
      "30/30 [==============================] - 1s 39ms/step - loss: 0.0776 - accuracy: 0.8999 - val_loss: 0.1546 - val_accuracy: 0.7863\n",
      "Epoch 3/5\n",
      "30/30 [==============================] - 1s 38ms/step - loss: 0.0492 - accuracy: 0.9367 - val_loss: 0.0831 - val_accuracy: 0.8866\n",
      "Epoch 4/5\n",
      "30/30 [==============================] - 1s 38ms/step - loss: 0.0352 - accuracy: 0.9561 - val_loss: 0.0855 - val_accuracy: 0.8864\n",
      "Epoch 5/5\n",
      "30/30 [==============================] - 1s 39ms/step - loss: 0.0234 - accuracy: 0.9713 - val_loss: 0.0924 - val_accuracy: 0.8820\n"
     ]
    }
   ],
   "source": [
    "model10 = tf.keras.Sequential([\n",
    "    tf.keras.layers.Dense(128, activation='relu', input_shape=(10000,)),\n",
    "    tf.keras.layers.Dense(128, activation='relu'),\n",
    "    tf.keras.layers.Dense(128, activation='relu'),\n",
    "    tf.keras.layers.Dense(1, activation='sigmoid')\n",
    "])\n",
    "\n",
    "model10.compile(loss='MSE', optimizer=tf.keras.optimizers.RMSprop(), metrics='accuracy')\n",
    "\n",
    "history10 = model10.fit(partial_x_train, partial_y_train, epochs=5, batch_size=512,\n",
    "         validation_data = (x_val, y_val))"
   ]
  },
  {
   "cell_type": "code",
   "execution_count": 89,
   "metadata": {},
   "outputs": [
    {
     "name": "stdout",
     "output_type": "stream",
     "text": [
      "782/782 [==============================] - 2s 2ms/step - loss: 0.1000 - accuracy: 0.8711\n"
     ]
    },
    {
     "data": {
      "text/plain": [
       "[0.0999942272901535, 0.8711199760437012]"
      ]
     },
     "execution_count": 89,
     "metadata": {},
     "output_type": "execute_result"
    }
   ],
   "source": [
    "model10.evaluate(x_test, y_test)"
   ]
  },
  {
   "cell_type": "code",
   "execution_count": 90,
   "metadata": {},
   "outputs": [
    {
     "name": "stdout",
     "output_type": "stream",
     "text": [
      "Epoch 1/5\n",
      "30/30 [==============================] - 2s 47ms/step - loss: 0.1367 - accuracy: 0.8213 - val_loss: 0.0838 - val_accuracy: 0.8883\n",
      "Epoch 2/5\n",
      "30/30 [==============================] - 1s 36ms/step - loss: 0.0493 - accuracy: 0.9375 - val_loss: 0.0900 - val_accuracy: 0.8810\n",
      "Epoch 3/5\n",
      "30/30 [==============================] - 1s 37ms/step - loss: 0.0266 - accuracy: 0.9709 - val_loss: 0.0992 - val_accuracy: 0.8762\n",
      "Epoch 4/5\n",
      "30/30 [==============================] - 1s 36ms/step - loss: 0.0160 - accuracy: 0.9842 - val_loss: 0.1059 - val_accuracy: 0.8702\n",
      "Epoch 5/5\n",
      "30/30 [==============================] - 1s 35ms/step - loss: 0.0107 - accuracy: 0.9896 - val_loss: 0.1091 - val_accuracy: 0.8676\n"
     ]
    }
   ],
   "source": [
    "model11 = tf.keras.Sequential([\n",
    "    tf.keras.layers.Dense(128, activation='relu', input_shape=(10000,)),\n",
    "    tf.keras.layers.Dense(128, activation='relu'),\n",
    "    tf.keras.layers.Dense(128, activation='relu'),\n",
    "    tf.keras.layers.Dense(1, activation='sigmoid')\n",
    "])\n",
    "\n",
    "model11.compile(loss='MSE', optimizer=tf.keras.optimizers.Adam(), metrics='accuracy')\n",
    "\n",
    "history11 = model11.fit(partial_x_train, partial_y_train, epochs=5, batch_size=512,\n",
    "         validation_data = (x_val, y_val))"
   ]
  },
  {
   "cell_type": "code",
   "execution_count": 91,
   "metadata": {},
   "outputs": [
    {
     "name": "stdout",
     "output_type": "stream",
     "text": [
      "782/782 [==============================] - 2s 3ms/step - loss: 0.1189 - accuracy: 0.8575\n"
     ]
    },
    {
     "data": {
      "text/plain": [
       "[0.11890143901109695, 0.8575199842453003]"
      ]
     },
     "execution_count": 91,
     "metadata": {},
     "output_type": "execute_result"
    }
   ],
   "source": [
    "model11.evaluate(x_test, y_test)"
   ]
  },
  {
   "cell_type": "code",
   "execution_count": 98,
   "metadata": {},
   "outputs": [
    {
     "name": "stdout",
     "output_type": "stream",
     "text": [
      "Epoch 1/5\n",
      "30/30 [==============================] - 2s 42ms/step - loss: 0.2447 - accuracy: 0.6113 - val_loss: 0.2323 - val_accuracy: 0.7373\n",
      "Epoch 2/5\n",
      "30/30 [==============================] - 1s 31ms/step - loss: 0.1959 - accuracy: 0.8203 - val_loss: 0.1550 - val_accuracy: 0.8357\n",
      "Epoch 3/5\n",
      "30/30 [==============================] - 1s 32ms/step - loss: 0.1121 - accuracy: 0.8819 - val_loss: 0.1005 - val_accuracy: 0.8712\n",
      "Epoch 4/5\n",
      "30/30 [==============================] - 1s 32ms/step - loss: 0.0698 - accuracy: 0.9188 - val_loss: 0.0867 - val_accuracy: 0.8857\n",
      "Epoch 5/5\n",
      "30/30 [==============================] - 1s 31ms/step - loss: 0.0496 - accuracy: 0.9453 - val_loss: 0.0834 - val_accuracy: 0.8884\n"
     ]
    }
   ],
   "source": [
    "model12 = tf.keras.Sequential([\n",
    "    tf.keras.layers.Dense(128, activation='relu', input_shape=(10000,)),\n",
    "    tf.keras.layers.Dense(128, activation='relu'),\n",
    "    tf.keras.layers.Dense(128, activation='relu'),\n",
    "    tf.keras.layers.Dense(128, activation='relu'),\n",
    "    tf.keras.layers.Dense(1, activation='sigmoid')\n",
    "])\n",
    "\n",
    "model12.compile(loss='MSE', optimizer=tf.keras.optimizers.Adam(learning_rate = 0.0001), metrics='accuracy')\n",
    "\n",
    "history12 = model12.fit(partial_x_train, partial_y_train, epochs=5, batch_size=512,\n",
    "         validation_data = (x_val, y_val))"
   ]
  },
  {
   "cell_type": "code",
   "execution_count": 99,
   "metadata": {},
   "outputs": [
    {
     "name": "stdout",
     "output_type": "stream",
     "text": [
      "782/782 [==============================] - 2s 3ms/step - loss: 0.0887 - accuracy: 0.8806\n"
     ]
    },
    {
     "data": {
      "text/plain": [
       "[0.08871732652187347, 0.8805599808692932]"
      ]
     },
     "execution_count": 99,
     "metadata": {},
     "output_type": "execute_result"
    }
   ],
   "source": [
    "model12.evaluate(x_test, y_test)"
   ]
  },
  {
   "cell_type": "code",
   "execution_count": 113,
   "metadata": {},
   "outputs": [
    {
     "name": "stdout",
     "output_type": "stream",
     "text": [
      "Epoch 1/7\n",
      "30/30 [==============================] - 2s 48ms/step - loss: 0.2456 - accuracy: 0.6319 - val_loss: 0.2355 - val_accuracy: 0.7567\n",
      "Epoch 2/7\n",
      "30/30 [==============================] - 1s 34ms/step - loss: 0.2033 - accuracy: 0.8231 - val_loss: 0.1636 - val_accuracy: 0.8412\n",
      "Epoch 3/7\n",
      "30/30 [==============================] - 1s 34ms/step - loss: 0.1187 - accuracy: 0.8831 - val_loss: 0.1039 - val_accuracy: 0.8702\n",
      "Epoch 4/7\n",
      "30/30 [==============================] - 1s 33ms/step - loss: 0.0716 - accuracy: 0.9197 - val_loss: 0.0893 - val_accuracy: 0.8829\n",
      "Epoch 5/7\n",
      "30/30 [==============================] - 1s 33ms/step - loss: 0.0503 - accuracy: 0.9467 - val_loss: 0.0836 - val_accuracy: 0.8885\n",
      "Epoch 6/7\n",
      "30/30 [==============================] - 1s 35ms/step - loss: 0.0371 - accuracy: 0.9607 - val_loss: 0.0852 - val_accuracy: 0.8847\n",
      "Epoch 7/7\n",
      "30/30 [==============================] - 1s 33ms/step - loss: 0.0277 - accuracy: 0.9744 - val_loss: 0.0852 - val_accuracy: 0.8855\n"
     ]
    }
   ],
   "source": [
    "model13 = tf.keras.Sequential([\n",
    "    tf.keras.layers.Dense(128, activation='relu', input_shape=(10000,)),\n",
    "    tf.keras.layers.Dense(128, activation='relu'),\n",
    "    tf.keras.layers.Dense(128, activation='relu'),\n",
    "    tf.keras.layers.Dense(64, activation='relu'),\n",
    "    tf.keras.layers.Dense(32, activation='relu'),\n",
    "    tf.keras.layers.Dense(1, activation='sigmoid')\n",
    "])\n",
    "\n",
    "model13.compile(loss='MSE', optimizer=tf.keras.optimizers.Adam(learning_rate = 0.0001), metrics='accuracy')\n",
    "\n",
    "history13 = model13.fit(partial_x_train, partial_y_train, epochs=7, batch_size=512,\n",
    "         validation_data = (x_val, y_val))"
   ]
  },
  {
   "cell_type": "code",
   "execution_count": 114,
   "metadata": {},
   "outputs": [
    {
     "name": "stdout",
     "output_type": "stream",
     "text": [
      "782/782 [==============================] - 2s 3ms/step - loss: 0.0912 - accuracy: 0.8776\n"
     ]
    },
    {
     "data": {
      "text/plain": [
       "[0.09117777645587921, 0.877560019493103]"
      ]
     },
     "execution_count": 114,
     "metadata": {},
     "output_type": "execute_result"
    }
   ],
   "source": [
    "model13.evaluate(x_test, y_test)"
   ]
  },
  {
   "cell_type": "code",
   "execution_count": 116,
   "metadata": {},
   "outputs": [
    {
     "name": "stdout",
     "output_type": "stream",
     "text": [
      "Epoch 1/15\n",
      "30/30 [==============================] - 2s 44ms/step - loss: 0.4934 - accuracy: 0.5136 - val_loss: 0.4783 - val_accuracy: 0.5526\n",
      "Epoch 2/15\n",
      "30/30 [==============================] - 1s 33ms/step - loss: 0.4261 - accuracy: 0.7214 - val_loss: 0.3540 - val_accuracy: 0.8114\n",
      "Epoch 3/15\n",
      "30/30 [==============================] - 1s 32ms/step - loss: 0.2548 - accuracy: 0.8609 - val_loss: 0.2028 - val_accuracy: 0.8614\n",
      "Epoch 4/15\n",
      "30/30 [==============================] - 1s 33ms/step - loss: 0.1419 - accuracy: 0.9037 - val_loss: 0.1513 - val_accuracy: 0.8788\n",
      "Epoch 5/15\n",
      "30/30 [==============================] - 1s 32ms/step - loss: 0.0980 - accuracy: 0.9281 - val_loss: 0.1346 - val_accuracy: 0.8852\n",
      "Epoch 6/15\n",
      "30/30 [==============================] - 1s 32ms/step - loss: 0.0741 - accuracy: 0.9448 - val_loss: 0.1282 - val_accuracy: 0.8863\n",
      "Epoch 7/15\n",
      "30/30 [==============================] - 1s 32ms/step - loss: 0.0584 - accuracy: 0.9546 - val_loss: 0.1244 - val_accuracy: 0.8858\n",
      "Epoch 8/15\n",
      "30/30 [==============================] - 1s 32ms/step - loss: 0.0472 - accuracy: 0.9633 - val_loss: 0.1223 - val_accuracy: 0.8876\n",
      "Epoch 9/15\n",
      "30/30 [==============================] - 1s 32ms/step - loss: 0.0391 - accuracy: 0.9687 - val_loss: 0.1217 - val_accuracy: 0.8871\n",
      "Epoch 10/15\n",
      "30/30 [==============================] - 1s 32ms/step - loss: 0.0337 - accuracy: 0.9720 - val_loss: 0.1213 - val_accuracy: 0.8857\n",
      "Epoch 11/15\n",
      "30/30 [==============================] - 1s 33ms/step - loss: 0.0301 - accuracy: 0.9736 - val_loss: 0.1208 - val_accuracy: 0.8849\n",
      "Epoch 12/15\n",
      "30/30 [==============================] - 1s 32ms/step - loss: 0.0273 - accuracy: 0.9757 - val_loss: 0.1210 - val_accuracy: 0.8841\n",
      "Epoch 13/15\n",
      "30/30 [==============================] - 1s 32ms/step - loss: 0.0255 - accuracy: 0.9765 - val_loss: 0.1209 - val_accuracy: 0.8839\n",
      "Epoch 14/15\n",
      "30/30 [==============================] - 1s 32ms/step - loss: 0.0241 - accuracy: 0.9777 - val_loss: 0.1209 - val_accuracy: 0.8828\n",
      "Epoch 15/15\n",
      "30/30 [==============================] - 1s 31ms/step - loss: 0.0232 - accuracy: 0.9783 - val_loss: 0.1209 - val_accuracy: 0.8835\n"
     ]
    }
   ],
   "source": [
    "model14 = tf.keras.Sequential([\n",
    "    tf.keras.layers.Dense(128, activation='relu', input_shape=(10000,)),\n",
    "    tf.keras.layers.Dense(128, activation='relu'),\n",
    "    tf.keras.layers.Dense(128, activation='relu'),\n",
    "    tf.keras.layers.Dense(128, activation='relu'),\n",
    "    tf.keras.layers.Dense(1, activation='sigmoid')\n",
    "])\n",
    "\n",
    "model14.compile(loss='MAE', optimizer=tf.keras.optimizers.Adam(learning_rate = 0.0001), metrics='accuracy')\n",
    "\n",
    "history14 = model14.fit(partial_x_train, partial_y_train, epochs=15, batch_size=512,\n",
    "         validation_data = (x_val, y_val))"
   ]
  },
  {
   "cell_type": "code",
   "execution_count": 117,
   "metadata": {},
   "outputs": [
    {
     "name": "stdout",
     "output_type": "stream",
     "text": [
      "782/782 [==============================] - 2s 3ms/step - loss: 0.1301 - accuracy: 0.8744\n"
     ]
    },
    {
     "data": {
      "text/plain": [
       "[0.13008251786231995, 0.8743600249290466]"
      ]
     },
     "execution_count": 117,
     "metadata": {},
     "output_type": "execute_result"
    }
   ],
   "source": [
    "model14.evaluate(x_test, y_test)"
   ]
  },
  {
   "cell_type": "code",
   "execution_count": 120,
   "metadata": {},
   "outputs": [
    {
     "name": "stdout",
     "output_type": "stream",
     "text": [
      "Epoch 1/15\n",
      "30/30 [==============================] - 2s 43ms/step - loss: 0.3513 - accuracy: 0.7389 - val_loss: 0.1528 - val_accuracy: 0.8683\n",
      "Epoch 2/15\n",
      "30/30 [==============================] - 3s 104ms/step - loss: 0.0996 - accuracy: 0.9081 - val_loss: 0.1203 - val_accuracy: 0.8859\n",
      "Epoch 3/15\n",
      "30/30 [==============================] - 1s 33ms/step - loss: 0.0626 - accuracy: 0.9421 - val_loss: 0.1219 - val_accuracy: 0.8804\n",
      "Epoch 4/15\n",
      "30/30 [==============================] - 1s 33ms/step - loss: 0.0481 - accuracy: 0.9549 - val_loss: 0.1228 - val_accuracy: 0.8786\n",
      "Epoch 5/15\n",
      "30/30 [==============================] - 1s 32ms/step - loss: 0.0404 - accuracy: 0.9615 - val_loss: 0.1241 - val_accuracy: 0.8784\n",
      "Epoch 6/15\n",
      "30/30 [==============================] - 1s 33ms/step - loss: 0.0350 - accuracy: 0.9665 - val_loss: 0.1234 - val_accuracy: 0.8774\n",
      "Epoch 7/15\n",
      "30/30 [==============================] - 1s 35ms/step - loss: 0.0324 - accuracy: 0.9683 - val_loss: 0.1247 - val_accuracy: 0.8780\n",
      "Epoch 8/15\n",
      "30/30 [==============================] - 1s 37ms/step - loss: 0.0309 - accuracy: 0.9695 - val_loss: 0.1238 - val_accuracy: 0.8777\n",
      "Epoch 9/15\n",
      "30/30 [==============================] - 1s 32ms/step - loss: 0.0299 - accuracy: 0.9706 - val_loss: 0.1259 - val_accuracy: 0.8762\n",
      "Epoch 10/15\n",
      "30/30 [==============================] - 1s 31ms/step - loss: 0.0292 - accuracy: 0.9711 - val_loss: 0.1260 - val_accuracy: 0.8755\n",
      "Epoch 11/15\n",
      "30/30 [==============================] - 1s 31ms/step - loss: 0.0285 - accuracy: 0.9719 - val_loss: 0.1262 - val_accuracy: 0.8747\n",
      "Epoch 12/15\n",
      "30/30 [==============================] - 1s 31ms/step - loss: 0.0279 - accuracy: 0.9722 - val_loss: 0.1253 - val_accuracy: 0.8765\n",
      "Epoch 13/15\n",
      "30/30 [==============================] - 1s 32ms/step - loss: 0.0275 - accuracy: 0.9725 - val_loss: 0.1257 - val_accuracy: 0.8755\n",
      "Epoch 14/15\n",
      "30/30 [==============================] - 1s 31ms/step - loss: 0.0273 - accuracy: 0.9727 - val_loss: 0.1244 - val_accuracy: 0.8771\n",
      "Epoch 15/15\n",
      "30/30 [==============================] - 1s 30ms/step - loss: 0.0270 - accuracy: 0.9731 - val_loss: 0.1288 - val_accuracy: 0.8723\n"
     ]
    }
   ],
   "source": [
    "model15 = tf.keras.Sequential([\n",
    "    tf.keras.layers.Dense(128, activation='relu', input_shape=(10000,)),\n",
    "    tf.keras.layers.Dense(128, activation='relu'),\n",
    "    tf.keras.layers.Dense(128, activation='relu'),\n",
    "    tf.keras.layers.Dense(128, activation='relu'),\n",
    "    tf.keras.layers.Dense(1, activation='sigmoid')\n",
    "])\n",
    "\n",
    "model15.compile(loss='MAE', optimizer=tf.keras.optimizers.Adam(learning_rate = 0.0005), metrics='accuracy')\n",
    "\n",
    "history15 = model15.fit(partial_x_train, partial_y_train, epochs=15, batch_size=512,\n",
    "         validation_data = (x_val, y_val))"
   ]
  },
  {
   "cell_type": "code",
   "execution_count": null,
   "metadata": {},
   "outputs": [],
   "source": [
    "#model12 = tf.keras.Sequential([\n",
    "#    tf.keras.layers.Dense(128, activation='relu', input_shape=(10000,)),\n",
    "#    tf.keras.layers.Dense(128, activation='relu'),\n",
    "#    tf.keras.layers.Dense(128, activation='relu'),\n",
    "#    tf.keras.layers.Dense(128, activation='relu'),\n",
    "#    tf.keras.layers.Dense(1, activation='sigmoid')\n",
    "#])\n",
    "#\n",
    "#model12.compile(loss='MSE', optimizer=tf.keras.optimizers.Adam(learning_rate = 0.0001), metrics='accuracy')\n",
    "#\n",
    "#history12 = model12.fit(partial_x_train, partial_y_train, epochs=5, batch_size=512,\n",
    "#        validation_data = (x_val, y_val))"
   ]
  },
  {
   "cell_type": "code",
   "execution_count": null,
   "metadata": {},
   "outputs": [],
   "source": [
    "#regularyzacja - porownanie "
   ]
  },
  {
   "cell_type": "code",
   "execution_count": 22,
   "metadata": {},
   "outputs": [
    {
     "name": "stdout",
     "output_type": "stream",
     "text": [
      "Epoch 1/20\n",
      "30/30 [==============================] - 2s 47ms/step - loss: 0.5661 - accuracy: 0.7939 - val_loss: 0.4442 - val_accuracy: 0.8661\n",
      "Epoch 2/20\n",
      "30/30 [==============================] - 1s 26ms/step - loss: 0.3679 - accuracy: 0.8965 - val_loss: 0.3596 - val_accuracy: 0.8842\n",
      "Epoch 3/20\n",
      "30/30 [==============================] - 1s 26ms/step - loss: 0.2933 - accuracy: 0.9191 - val_loss: 0.3357 - val_accuracy: 0.8886\n",
      "Epoch 4/20\n",
      "30/30 [==============================] - 1s 30ms/step - loss: 0.2573 - accuracy: 0.9316 - val_loss: 0.3280 - val_accuracy: 0.8892\n",
      "Epoch 5/20\n",
      "30/30 [==============================] - 1s 27ms/step - loss: 0.2338 - accuracy: 0.9394 - val_loss: 0.3315 - val_accuracy: 0.8854\n",
      "Epoch 6/20\n",
      "30/30 [==============================] - 1s 28ms/step - loss: 0.2192 - accuracy: 0.9457 - val_loss: 0.3411 - val_accuracy: 0.8838\n",
      "Epoch 7/20\n",
      "30/30 [==============================] - 1s 27ms/step - loss: 0.2087 - accuracy: 0.9503 - val_loss: 0.3445 - val_accuracy: 0.8842\n",
      "Epoch 8/20\n",
      "30/30 [==============================] - 1s 27ms/step - loss: 0.2007 - accuracy: 0.9533 - val_loss: 0.3562 - val_accuracy: 0.8819\n",
      "Epoch 9/20\n",
      "30/30 [==============================] - 1s 26ms/step - loss: 0.1884 - accuracy: 0.9595 - val_loss: 0.3693 - val_accuracy: 0.8774\n",
      "Epoch 10/20\n",
      "30/30 [==============================] - 1s 28ms/step - loss: 0.1840 - accuracy: 0.9602 - val_loss: 0.3682 - val_accuracy: 0.8800\n",
      "Epoch 11/20\n",
      "30/30 [==============================] - 1s 28ms/step - loss: 0.1837 - accuracy: 0.9590 - val_loss: 0.4026 - val_accuracy: 0.8751\n",
      "Epoch 12/20\n",
      "30/30 [==============================] - 1s 26ms/step - loss: 0.1697 - accuracy: 0.9661 - val_loss: 0.3874 - val_accuracy: 0.8784\n",
      "Epoch 13/20\n",
      "30/30 [==============================] - 1s 28ms/step - loss: 0.1694 - accuracy: 0.9641 - val_loss: 0.3993 - val_accuracy: 0.8723\n",
      "Epoch 14/20\n",
      "30/30 [==============================] - 1s 29ms/step - loss: 0.1655 - accuracy: 0.9669 - val_loss: 0.3977 - val_accuracy: 0.8788\n",
      "Epoch 15/20\n",
      "30/30 [==============================] - 1s 31ms/step - loss: 0.1614 - accuracy: 0.9685 - val_loss: 0.4697 - val_accuracy: 0.8537\n",
      "Epoch 16/20\n",
      "30/30 [==============================] - 1s 31ms/step - loss: 0.1610 - accuracy: 0.9671 - val_loss: 0.4172 - val_accuracy: 0.8725\n",
      "Epoch 17/20\n",
      "30/30 [==============================] - 1s 30ms/step - loss: 0.1570 - accuracy: 0.9723 - val_loss: 0.4172 - val_accuracy: 0.8754\n",
      "Epoch 18/20\n",
      "30/30 [==============================] - 1s 30ms/step - loss: 0.1479 - accuracy: 0.9746 - val_loss: 0.4907 - val_accuracy: 0.8627\n",
      "Epoch 19/20\n",
      "30/30 [==============================] - 1s 28ms/step - loss: 0.1456 - accuracy: 0.9741 - val_loss: 0.4545 - val_accuracy: 0.8723\n",
      "Epoch 20/20\n",
      "30/30 [==============================] - 1s 27ms/step - loss: 0.1429 - accuracy: 0.9756 - val_loss: 0.4693 - val_accuracy: 0.8702\n"
     ]
    }
   ],
   "source": [
    "model_reg = tf.keras.Sequential([\n",
    "    tf.keras.layers.Dense(16, activation='relu', kernel_regularizer = tf.keras.regularizers.l2(0.001) ,input_shape=(10000,)),\n",
    "    tf.keras.layers.Dense(16, activation='relu', kernel_regularizer = tf.keras.regularizers.l2(0.001)),\n",
    "    tf.keras.layers.Dense(1, activation='sigmoid')\n",
    "])\n",
    "\n",
    "model_reg.compile(loss='BinaryCrossentropy', optimizer=tf.keras.optimizers.RMSprop(), metrics='accuracy')\n",
    "\n",
    "history_reg = model_reg.fit(partial_x_train, partial_y_train, epochs=20, batch_size=512,\n",
    "         validation_data = (x_val, y_val))"
   ]
  },
  {
   "cell_type": "code",
   "execution_count": 23,
   "metadata": {},
   "outputs": [
    {
     "data": {
      "text/plain": [
       "<AxesSubplot:>"
      ]
     },
     "execution_count": 23,
     "metadata": {},
     "output_type": "execute_result"
    },
    {
     "data": {
      "image/png": "[encoded data removed]",
      "text/plain": [
       "<Figure size 432x288 with 1 Axes>"
      ]
     },
     "metadata": {
      "needs_background": "light"
     },
     "output_type": "display_data"
    }
   ],
   "source": [
    "pd.DataFrame(history_reg.history['val_loss']).plot()"
   ]
  },
  {
   "cell_type": "code",
   "execution_count": 21,
   "metadata": {},
   "outputs": [
    {
     "name": "stdout",
     "output_type": "stream",
     "text": [
      "Epoch 1/20\n",
      "30/30 [==============================] - 3s 47ms/step - loss: 0.4956 - accuracy: 0.7958 - val_loss: 0.3634 - val_accuracy: 0.8764\n",
      "Epoch 2/20\n",
      "30/30 [==============================] - 1s 29ms/step - loss: 0.2895 - accuracy: 0.9061 - val_loss: 0.3097 - val_accuracy: 0.8783\n",
      "Epoch 3/20\n",
      "30/30 [==============================] - 1s 27ms/step - loss: 0.2183 - accuracy: 0.9275 - val_loss: 0.2847 - val_accuracy: 0.8859\n",
      "Epoch 4/20\n",
      "30/30 [==============================] - 1s 27ms/step - loss: 0.1725 - accuracy: 0.9439 - val_loss: 0.2788 - val_accuracy: 0.8860\n",
      "Epoch 5/20\n",
      "30/30 [==============================] - 1s 26ms/step - loss: 0.1423 - accuracy: 0.9531 - val_loss: 0.2889 - val_accuracy: 0.8838\n",
      "Epoch 6/20\n",
      "30/30 [==============================] - 1s 27ms/step - loss: 0.1149 - accuracy: 0.9652 - val_loss: 0.2936 - val_accuracy: 0.8851\n",
      "Epoch 7/20\n",
      "30/30 [==============================] - 1s 27ms/step - loss: 0.0934 - accuracy: 0.9720 - val_loss: 0.3120 - val_accuracy: 0.8825\n",
      "Epoch 8/20\n",
      "30/30 [==============================] - 1s 27ms/step - loss: 0.0814 - accuracy: 0.9769 - val_loss: 0.3424 - val_accuracy: 0.8768\n",
      "Epoch 9/20\n",
      "30/30 [==============================] - 1s 27ms/step - loss: 0.0637 - accuracy: 0.9846 - val_loss: 0.3543 - val_accuracy: 0.8784\n",
      "Epoch 10/20\n",
      "30/30 [==============================] - 1s 27ms/step - loss: 0.0528 - accuracy: 0.9875 - val_loss: 0.4102 - val_accuracy: 0.8732\n",
      "Epoch 11/20\n",
      "30/30 [==============================] - 1s 28ms/step - loss: 0.0429 - accuracy: 0.9900 - val_loss: 0.4151 - val_accuracy: 0.8766\n",
      "Epoch 12/20\n",
      "30/30 [==============================] - 1s 27ms/step - loss: 0.0338 - accuracy: 0.9929 - val_loss: 0.4407 - val_accuracy: 0.8712\n",
      "Epoch 13/20\n",
      "30/30 [==============================] - 1s 27ms/step - loss: 0.0261 - accuracy: 0.9955 - val_loss: 0.4885 - val_accuracy: 0.8666\n",
      "Epoch 14/20\n",
      "30/30 [==============================] - 1s 27ms/step - loss: 0.0226 - accuracy: 0.9961 - val_loss: 0.5126 - val_accuracy: 0.8693\n",
      "Epoch 15/20\n",
      "30/30 [==============================] - 1s 26ms/step - loss: 0.0174 - accuracy: 0.9971 - val_loss: 0.5449 - val_accuracy: 0.8704\n",
      "Epoch 16/20\n",
      "30/30 [==============================] - 1s 27ms/step - loss: 0.0116 - accuracy: 0.9993 - val_loss: 0.5811 - val_accuracy: 0.8679\n",
      "Epoch 17/20\n",
      "30/30 [==============================] - 1s 30ms/step - loss: 0.0110 - accuracy: 0.9984 - val_loss: 0.6240 - val_accuracy: 0.8661\n",
      "Epoch 18/20\n",
      "30/30 [==============================] - 1s 27ms/step - loss: 0.0108 - accuracy: 0.9979 - val_loss: 0.6468 - val_accuracy: 0.8679\n",
      "Epoch 19/20\n",
      "30/30 [==============================] - 1s 27ms/step - loss: 0.0043 - accuracy: 0.9999 - val_loss: 0.6748 - val_accuracy: 0.8662\n",
      "Epoch 20/20\n",
      "30/30 [==============================] - 1s 26ms/step - loss: 0.0061 - accuracy: 0.9988 - val_loss: 0.7106 - val_accuracy: 0.8654\n"
     ]
    }
   ],
   "source": [
    "model_wreg = tf.keras.Sequential([\n",
    "    tf.keras.layers.Dense(16, activation='relu', input_shape=(10000,)),\n",
    "    tf.keras.layers.Dense(16, activation='relu'),\n",
    "    tf.keras.layers.Dense(1, activation='sigmoid')\n",
    "])\n",
    "\n",
    "model_wreg.compile(loss='BinaryCrossentropy', optimizer=tf.keras.optimizers.RMSprop(), metrics='accuracy')\n",
    "\n",
    "history_wreg = model_wreg.fit(partial_x_train, partial_y_train, epochs=20, batch_size=512,\n",
    "         validation_data = (x_val, y_val))"
   ]
  },
  {
   "cell_type": "code",
   "execution_count": 24,
   "metadata": {},
   "outputs": [
    {
     "data": {
      "text/plain": [
       "<AxesSubplot:>"
      ]
     },
     "execution_count": 24,
     "metadata": {},
     "output_type": "execute_result"
    },
    {
     "data": {
      "image/png": "[encoded data removed]",
      "text/plain": [
       "<Figure size 432x288 with 1 Axes>"
      ]
     },
     "metadata": {
      "needs_background": "light"
     },
     "output_type": "display_data"
    }
   ],
   "source": [
    "pd.DataFrame(history_wreg.history['val_loss']).plot()"
   ]
  },
  {
   "cell_type": "code",
   "execution_count": 25,
   "metadata": {},
   "outputs": [],
   "source": [
    "#dropout"
   ]
  },
  {
   "cell_type": "code",
   "execution_count": 26,
   "metadata": {},
   "outputs": [
    {
     "name": "stdout",
     "output_type": "stream",
     "text": [
      "Epoch 1/20\n",
      "30/30 [==============================] - 2s 44ms/step - loss: 0.6365 - accuracy: 0.6179 - val_loss: 0.5492 - val_accuracy: 0.8456\n",
      "Epoch 2/20\n",
      "30/30 [==============================] - 1s 26ms/step - loss: 0.5354 - accuracy: 0.7493 - val_loss: 0.4754 - val_accuracy: 0.8708\n",
      "Epoch 3/20\n",
      "30/30 [==============================] - 1s 26ms/step - loss: 0.4747 - accuracy: 0.8151 - val_loss: 0.4127 - val_accuracy: 0.8813\n",
      "Epoch 4/20\n",
      "30/30 [==============================] - 1s 30ms/step - loss: 0.4173 - accuracy: 0.8553 - val_loss: 0.3676 - val_accuracy: 0.8876\n",
      "Epoch 5/20\n",
      "30/30 [==============================] - 1s 29ms/step - loss: 0.3767 - accuracy: 0.8735 - val_loss: 0.3468 - val_accuracy: 0.8876\n",
      "Epoch 6/20\n",
      "30/30 [==============================] - 1s 26ms/step - loss: 0.3366 - accuracy: 0.8933 - val_loss: 0.3216 - val_accuracy: 0.8772\n",
      "Epoch 7/20\n",
      "30/30 [==============================] - 1s 27ms/step - loss: 0.3040 - accuracy: 0.9044 - val_loss: 0.3069 - val_accuracy: 0.8900\n",
      "Epoch 8/20\n",
      "30/30 [==============================] - 1s 27ms/step - loss: 0.2719 - accuracy: 0.9160 - val_loss: 0.2992 - val_accuracy: 0.8827\n",
      "Epoch 9/20\n",
      "30/30 [==============================] - 1s 27ms/step - loss: 0.2500 - accuracy: 0.9280 - val_loss: 0.3005 - val_accuracy: 0.8895\n",
      "Epoch 10/20\n",
      "30/30 [==============================] - 1s 26ms/step - loss: 0.2200 - accuracy: 0.9369 - val_loss: 0.3011 - val_accuracy: 0.8859\n",
      "Epoch 11/20\n",
      "30/30 [==============================] - 1s 29ms/step - loss: 0.2106 - accuracy: 0.9394 - val_loss: 0.3313 - val_accuracy: 0.8894\n",
      "Epoch 12/20\n",
      "30/30 [==============================] - 1s 30ms/step - loss: 0.1857 - accuracy: 0.9458 - val_loss: 0.3360 - val_accuracy: 0.8902\n",
      "Epoch 13/20\n",
      "30/30 [==============================] - 1s 26ms/step - loss: 0.1751 - accuracy: 0.9518 - val_loss: 0.3660 - val_accuracy: 0.8876\n",
      "Epoch 14/20\n",
      "30/30 [==============================] - 1s 32ms/step - loss: 0.1630 - accuracy: 0.9557 - val_loss: 0.3957 - val_accuracy: 0.8859\n",
      "Epoch 15/20\n",
      "30/30 [==============================] - 1s 25ms/step - loss: 0.1461 - accuracy: 0.9596 - val_loss: 0.3849 - val_accuracy: 0.8868\n",
      "Epoch 16/20\n",
      "30/30 [==============================] - 1s 25ms/step - loss: 0.1403 - accuracy: 0.9611 - val_loss: 0.3899 - val_accuracy: 0.8855\n",
      "Epoch 17/20\n",
      "30/30 [==============================] - 1s 25ms/step - loss: 0.1330 - accuracy: 0.9657 - val_loss: 0.4798 - val_accuracy: 0.8814\n",
      "Epoch 18/20\n",
      "30/30 [==============================] - 1s 30ms/step - loss: 0.1223 - accuracy: 0.9649 - val_loss: 0.4860 - val_accuracy: 0.8838\n",
      "Epoch 19/20\n",
      "30/30 [==============================] - 1s 31ms/step - loss: 0.1204 - accuracy: 0.9689 - val_loss: 0.4556 - val_accuracy: 0.8850\n",
      "Epoch 20/20\n",
      "30/30 [==============================] - 1s 28ms/step - loss: 0.1142 - accuracy: 0.9697 - val_loss: 0.5357 - val_accuracy: 0.8795\n"
     ]
    }
   ],
   "source": [
    "model_dropout = tf.keras.Sequential([\n",
    "    tf.keras.layers.Dense(16, activation='relu', input_shape=(10000,)),\n",
    "    tf.keras.layers.Dropout(0.5),\n",
    "    tf.keras.layers.Dense(16, activation='relu'),\n",
    "    tf.keras.layers.Dropout(0.5),\n",
    "    tf.keras.layers.Dense(1, activation='sigmoid')\n",
    "])\n",
    "\n",
    "model_dropout.compile(loss='BinaryCrossentropy', optimizer=tf.keras.optimizers.RMSprop(), metrics='accuracy')\n",
    "\n",
    "history_dropout = model_dropout.fit(partial_x_train, partial_y_train, epochs=20, batch_size=512,\n",
    "         validation_data = (x_val, y_val))"
   ]
  },
  {
   "cell_type": "code",
   "execution_count": 27,
   "metadata": {},
   "outputs": [
    {
     "data": {
      "text/plain": [
       "<AxesSubplot:>"
      ]
     },
     "execution_count": 27,
     "metadata": {},
     "output_type": "execute_result"
    },
    {
     "data": {
      "image/png": "[encoded data removed]",
      "text/plain": [
       "<Figure size 432x288 with 1 Axes>"
      ]
     },
     "metadata": {
      "needs_background": "light"
     },
     "output_type": "display_data"
    }
   ],
   "source": [
    "pd.DataFrame(history_dropout.history['val_loss']).plot()"
   ]
  },
  {
   "cell_type": "code",
   "execution_count": null,
   "metadata": {},
   "outputs": [],
   "source": []
  }
 ],
 "metadata": {
  "kernelspec": {
   "display_name": "Python 3",
   "language": "python",
   "name": "python3"
  },
  "language_info": {
   "codemirror_mode": {
    "name": "ipython",
    "version": 3
   },
   "file_extension": ".py",
   "mimetype": "text/x-python",
   "name": "python",
   "nbconvert_exporter": "python",
   "pygments_lexer": "ipython3",
   "version": "3.8.5"
  }
 },
 "nbformat": 4,
 "nbformat_minor": 4
}
