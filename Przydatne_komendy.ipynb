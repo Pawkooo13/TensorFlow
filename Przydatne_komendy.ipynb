{
 "cells": [
  {
   "cell_type": "code",
   "execution_count": null,
   "metadata": {},
   "outputs": [],
   "source": [
    "import pandas as pd\n",
    "import pandas-profiling as pp \n",
    "import numpy as np\n",
    "import seaborn as sns\n",
    "from matplotlib import pyplot as plt\n",
    "import tensorflow as tf"
   ]
  },
  {
   "cell_type": "code",
   "execution_count": null,
   "metadata": {},
   "outputs": [],
   "source": [
    "df = pd.read_csv()\n",
    "df.head()\n",
    "df.info() \n",
    "df[\"nazwa_kolumny\"].hist() #histogram\n",
    "df.describe() #podstawowe dane tzn. liczba wierszy, srednia kazdej kolumny, std, min, 25%, 50%, 75%, max\n",
    "df = pd.DataFrame(dane, columns=[\"model\",\"mae\",\"mse\"])\n",
    "sns.clustermap(df.corr());  #wykres korelacji miedzy zmiennymi\n",
    "pp.ProfileReport(df).to_file(outputfile='raport.html')  #podstawowy raport o danych, zawiera korelacje, bledy, ilosc danych,\n",
    "                                                        #rozne wykresy, histogramy, srednia, min i max kazdego atrybutu itd"
   ]
  },
  {
   "cell_type": "code",
   "execution_count": null,
   "metadata": {},
   "outputs": [],
   "source": [
    "#TensorFlow\n",
    "tf.constant(dane)\n",
    "tf.Variable(dane)\n",
    "tensor.ndim() #wymiar tensora\n",
    "tensor.shape() #rozmiar tensora\n",
    "tf.size(tensor)\n",
    "tensor.squeeze() #redukowanie o wymiar\n",
    "tf.reshape(tensor, shape=()) \n",
    "tf.random.set_seed(seed)\n",
    "tf.random.shuffle(dane) #mix danych\n",
    "tf.ones(rozmiar) #lista jedynek\n",
    "tf.zeros(rozmiar) #lista zer\n",
    "tf.range(start,stop,step) #tworzenie listy \n",
    "tensor + - * / liczba \n",
    "tf.matmul(tensor1, tensor2) #mnozenie macierz * macierz\n",
    "tf.multiply(tensor, 10) #mnozenie macierzy przez skalar\n",
    "tf.transpose(tensor)\n",
    "tf.cast(tensor, dtype=) #zmiana typu zmiennych w tensorze\n",
    "tf.reduce_min(tensor) #min liczba\n",
    "tf.reduce_max(tensor) #max liczba\n",
    "tf.reduce_mean(tensor) #srednia liczb\n",
    "tf.reduce_sum(tensor) #suma liczb\n",
    "tf.square(tensor) #liczby do kwadrat\n",
    "tf.math.sqrt(tensor) #musza byc na float32\n",
    "tf.math.log(tensor) #musza byc na float32\n",
    "tf.math.reduce_variance(tensor) #wariancja, musi byc na float32\n",
    "tf.math.reduce_std(tensor) #odchylenie standardowe, musi byc na float32\n",
    "tf.random.uniform(shape=()) #tworzene listy o danym rozmiarze z liczb miedzy 0 a 1\n",
    "tf.argmin(tensor) #index min liczby\n",
    "tf.argmax(tensor) #index max liczby\n",
    "\n",
    "some_list = [0,1,2,3] #let say: red, green, blue, purple\n",
    "#one hot encode our list of indices\n",
    "tf.one_hot(some_list, depth=4) #depth is equal to len(some_list)\n",
    "tf.one_hot(some_list, depth=4, on_value=\"Y\", off_value=\"N\") #change numbers to words\n",
    "\n",
    "np.array(tensor) #kowersja tensora na liste numpy\n",
    "tf.constant(np.array()) #konwersja listy numpy na tensor, ew tf.Variable()\n",
    "\n",
    "\n",
    "#creating model\n",
    "model = tf.keras.Sequential([\n",
    "    tf.keras.layers.Input(shape=(1,)),\n",
    "    tf.keras.layers.Dense(1),\n",
    "])\n",
    "#compiling model\n",
    "model.compile(loss=\"mae\", optimizer=\"sgd\", metrics=\"mae\")\n",
    "#fitting model\n",
    "model.fit(X, Y, epochs=10)\n",
    "#making predictions\n",
    "model.predict(dane_testowe)\n",
    "#summary of model\n",
    "model.summary()\n",
    "\n",
    "model.save(\"nazwa\") #SavedFormat\n",
    "model.save(\"nazwa.h5\") #format HDF5    Hierarchical data format\n",
    "tf.keras.models.load_model(\"nazwa\") #zaladowanie modelu z pliku"
   ]
  },
  {
   "cell_type": "code",
   "execution_count": null,
   "metadata": {},
   "outputs": [],
   "source": [
    "#NumPy\n",
    "np.arange(start,stop,step) #tworzenie listy\n"
   ]
  }
 ],
 "metadata": {
  "kernelspec": {
   "display_name": "Python 3",
   "language": "python",
   "name": "python3"
  },
  "language_info": {
   "codemirror_mode": {
    "name": "ipython",
    "version": 3
   },
   "file_extension": ".py",
   "mimetype": "text/x-python",
   "name": "python",
   "nbconvert_exporter": "python",
   "pygments_lexer": "ipython3",
   "version": "3.8.5"
  }
 },
 "nbformat": 4,
 "nbformat_minor": 4
}
